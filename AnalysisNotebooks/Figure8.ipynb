{
 "cells": [
  {
   "cell_type": "code",
   "execution_count": 1,
   "metadata": {
    "collapsed": true
   },
   "outputs": [],
   "source": [
    "import pygsti\n",
    "import time\n",
    "import pickle\n",
    "import numpy as np\n",
    "from pygsti.construction import std1Q_XYI\n",
    "gs_target = std1Q_XYI.gs_target\n",
    "from matplotlib import pyplot as plt\n",
    "%matplotlib inline"
   ]
  },
  {
   "cell_type": "code",
   "execution_count": 2,
   "metadata": {
    "collapsed": true
   },
   "outputs": [],
   "source": [
    "#Load in bootstrapped gatesets.  Can either generate using \"Bootstrap Dataset Creation.ipynb\" or load pre-computed \n",
    "#gatesets.\n",
    "bootstrapped_gs_list = []\n",
    "for i in xrange(100):\n",
    "    gs = pygsti.io.load_gateset('../ComputedObjects/GST_Bootstrap-8192_10-20-16/gateset_parametric_logl_'+str(i)+'.gateset')\n",
    "    gs.set_all_parameterizations('TP')\n",
    "    bootstrapped_gs_list.append(gs)"
   ]
  },
  {
   "cell_type": "code",
   "execution_count": 3,
   "metadata": {
    "collapsed": true
   },
   "outputs": [],
   "source": [
    "GSTResults = pickle.load(open('../ComputedObjects/2015_03_30-GST_BB1_XYXY_8192_condensed.pkl','r'))\n",
    "gsGST = GSTResults.gatesets['final estimate']"
   ]
  },
  {
   "cell_type": "code",
   "execution_count": 4,
   "metadata": {
    "collapsed": true
   },
   "outputs": [],
   "source": [
    "#Set confidence level for analytic error bars\n",
    "GSTResults.confidence_level = 95"
   ]
  },
  {
   "cell_type": "code",
   "execution_count": 5,
   "metadata": {
    "collapsed": false
   },
   "outputs": [
    {
     "name": "stdout",
     "output_type": "stream",
     "text": [
      "    \n",
      "--- Hessian Projector Optimization for gate CIs (L-BFGS-B) ---\n",
      " 1099s           0.0015961234\n",
      " 1108s           0.0007618351\n",
      " 1116s           0.0005474034\n",
      " 1133s           0.0004430106\n",
      " 1150s           0.0003930114\n",
      " 1159s           0.0003740509\n",
      " 1167s           0.0002880956\n",
      " 1176s           0.0002047055\n",
      " 1193s           0.0001845021\n",
      " 1202s           0.0001533639\n",
      " 1211s           0.0001481242\n",
      " 1219s           0.0001464587\n",
      " 1227s           0.0001444728\n",
      " 1236s           0.0001423815\n",
      " 1245s           0.0001397967\n",
      " 1253s           0.0001381713\n",
      " 1262s           0.0001374071\n",
      "  The resulting min sqrt(sum(gateCIs**2)): 0.000137407\n"
     ]
    }
   ],
   "source": [
    "#Analytically compute error bars.  This may take some time (~1000 s)\n",
    "start = time.time()\n",
    "results_table = GSTResults.tables[u'bestGatesetGatesTable']\n",
    "end = time.time()"
   ]
  },
  {
   "cell_type": "code",
   "execution_count": 6,
   "metadata": {
    "collapsed": false
   },
   "outputs": [
    {
     "name": "stdout",
     "output_type": "stream",
     "text": [
      "1255.18613195\n"
     ]
    }
   ],
   "source": [
    "print end - start"
   ]
  },
  {
   "cell_type": "code",
   "execution_count": 7,
   "metadata": {
    "collapsed": false
   },
   "outputs": [
    {
     "name": "stderr",
     "output_type": "stream",
     "text": [
      "/home/kmrudin/pyGSTi/packages/pygsti/algorithms/gaugeopt.py:278: UserWarning: The function 'optimize_gauge' is deprecated, and may be removed in future versions of pyGSTi\n",
      "  \" and may be removed in future versions of pyGSTi\")\n"
     ]
    }
   ],
   "source": [
    "#Gauge-optimize all the bootstrapped gatesets:\n",
    "bootstrapped_gs_list_1 = [pygsti.optimize_gauge(gs,'target',targetGateset=gs_target,spamWeight=1e-4,constrainToTP=True) for gs in bootstrapped_gs_list]\n",
    "#Compute 2-sigma bootstrapped error bars:\n",
    "bootstrapped_error_bars_1 = 2*pygsti.bootstrap.gs_stdev1(lambda x:x.to_vector(),bootstrapped_gs_list_1)"
   ]
  },
  {
   "cell_type": "code",
   "execution_count": 8,
   "metadata": {
    "collapsed": true
   },
   "outputs": [],
   "source": [
    "#Compute 2-sigma bootstrapped error bars:\n",
    "bootstrapped_error_bars = 2*pygsti.bootstrap.gs_stdev1(lambda x:x.to_vector(),bootstrapped_gs_list)"
   ]
  },
  {
   "cell_type": "code",
   "execution_count": 9,
   "metadata": {
    "collapsed": true
   },
   "outputs": [],
   "source": [
    "x = GSTResults._get_confidence_region(95)\n",
    "y = x.get_profile_likelihood_confidence_intervals()"
   ]
  },
  {
   "cell_type": "code",
   "execution_count": 10,
   "metadata": {
    "collapsed": true
   },
   "outputs": [],
   "source": [
    "bootstrapped_gate_element_error_bars = bootstrapped_error_bars_1[7:]\n",
    "hessian_gate_element_error_bars = y[7:]"
   ]
  },
  {
   "cell_type": "code",
   "execution_count": 11,
   "metadata": {
    "collapsed": false
   },
   "outputs": [
    {
     "data": {
      "text/plain": [
       "[<matplotlib.lines.Line2D at 0x7fa39ddba490>]"
      ]
     },
     "execution_count": 11,
     "metadata": {},
     "output_type": "execute_result"
    },
    {
     "data": {
      "image/png": "[encoded data removed]",
      "text/plain": [
       "<matplotlib.figure.Figure at 0x7fa39ddbab90>"
      ]
     },
     "metadata": {},
     "output_type": "display_data"
    }
   ],
   "source": [
    "plt.plot(hessian_gate_element_error_bars,bootstrapped_gate_element_error_bars,'.')\n",
    "plt.plot(np.arange(0,5e-5,1e-6),np.arange(0,5e-5,1e-6),'--')\n",
    "plt.savefig('../Figures/Fig8.pdf')"
   ]
  },
  {
   "cell_type": "code",
   "execution_count": 12,
   "metadata": {
    "collapsed": false
   },
   "outputs": [
    {
     "name": "stdout",
     "output_type": "stream",
     "text": [
      "Analytic\t\tBootstrapped\n",
      "7.71770386688e-06 \t8.22524253672e-06\n",
      "1.28800878394e-05 \t1.42730075968e-05\n",
      "2.55242171888e-05 \t2.71271729964e-05\n",
      "2.39811124713e-05 \t2.37133736013e-05\n",
      "8.7093021846e-06 \t9.32352711464e-06\n",
      "2.50567735559e-05 \t2.73709879094e-05\n",
      "1.58605410473e-05 \t1.89380584328e-05\n",
      "2.6923217163e-05 \t2.40553636933e-05\n",
      "9.88611885724e-06 \t9.77552169156e-06\n",
      "2.3537330936e-05 \t2.40594358291e-05\n",
      "2.79631690576e-05 \t2.68237586376e-05\n",
      "1.67099375824e-05 \t1.96230683853e-05\n",
      "8.14897981139e-06 \t6.76671534656e-06\n",
      "1.31696404676e-05 \t1.26330583256e-05\n",
      "2.98081801298e-05 \t3.23688485039e-05\n",
      "3.05398114553e-05 \t2.53394910929e-05\n",
      "7.35689835451e-06 \t8.72038488603e-06\n",
      "2.97516745271e-05 \t2.48181498873e-05\n",
      "3.83243600545e-05 \t3.34613385875e-05\n",
      "1.45390417211e-05 \t1.4441299932e-05\n",
      "7.98733081628e-06 \t8.86061588003e-06\n",
      "3.00351223657e-05 \t3.08154541063e-05\n",
      "1.45949632809e-05 \t1.39905652882e-05\n",
      "3.91821289784e-05 \t3.09507777164e-05\n",
      "8.46043558821e-06 \t8.61521051225e-06\n",
      "3.54199738043e-05 \t3.30563081985e-05\n",
      "2.96682828974e-05 \t2.62064816489e-05\n",
      "1.36009885511e-05 \t1.37479586853e-05\n",
      "7.08413712182e-06 \t7.52303909743e-06\n",
      "2.98298490532e-05 \t3.01105839161e-05\n",
      "1.00847439692e-05 \t1.10184048842e-05\n",
      "2.99594145862e-05 \t2.4480661073e-05\n",
      "7.25824373858e-06 \t8.30334557475e-06\n",
      "1.35660578958e-05 \t1.38953953165e-05\n",
      "2.89802618362e-05 \t3.07906443454e-05\n",
      "3.51257103971e-05 \t3.43642466813e-05\n"
     ]
    }
   ],
   "source": [
    "print \"Analytic\\t\\tBootstrapped\"\n",
    "for i in zip(hessian_gate_element_error_bars,bootstrapped_gate_element_error_bars):\n",
    "    print i[0], '\\t', i[1]"
   ]
  },
  {
   "cell_type": "code",
   "execution_count": null,
   "metadata": {
    "collapsed": true
   },
   "outputs": [],
   "source": []
  }
 ],
 "metadata": {
  "kernelspec": {
   "display_name": "Python 2",
   "language": "python",
   "name": "python2"
  },
  "language_info": {
   "codemirror_mode": {
    "name": "ipython",
    "version": 2
   },
   "file_extension": ".py",
   "mimetype": "text/x-python",
   "name": "python",
   "nbconvert_exporter": "python",
   "pygments_lexer": "ipython2",
   "version": "2.7.12"
  }
 },
 "nbformat": 4,
 "nbformat_minor": 0
}
