{
 "cells": [
  {
   "cell_type": "code",
   "execution_count": 1,
   "metadata": {
    "collapsed": true
   },
   "outputs": [],
   "source": [
    "import pygsti\n",
    "from matplotlib import pyplot as plt\n",
    "%matplotlib inline\n",
    "import numpy as np\n",
    "from pygsti.algorithms import germselection\n",
    "from pygsti.construction import std1Q_XYI"
   ]
  },
  {
   "cell_type": "code",
   "execution_count": 2,
   "metadata": {
    "collapsed": true
   },
   "outputs": [],
   "source": [
    "gs_target = std1Q_XYI.gs_target"
   ]
  },
  {
   "cell_type": "code",
   "execution_count": 3,
   "metadata": {
    "collapsed": true
   },
   "outputs": [],
   "source": [
    "gs_true = gs_target.rotate(max_rotate=.1,seed=0)"
   ]
  },
  {
   "cell_type": "code",
   "execution_count": 4,
   "metadata": {
    "collapsed": false
   },
   "outputs": [
    {
     "name": "stdout",
     "output_type": "stream",
     "text": [
      "[GateString(Gi), GateString(Gx), GateString(Gy), GateString(GxGy), GateString(GiGx), GateString(GxGyGi), GateString(GxGyGy), GateString(GxGyGiGx), GateString(GyGyGiGi), GateString(GxGyGiGxGy)]\n"
     ]
    }
   ],
   "source": [
    "bad_germ_list = pygsti.construction.list_all_gatestrings_onelen(std1Q_XYI.gates,1)+\\\n",
    "pygsti.construction.list_random_gatestrings_onelen(std1Q_XYI.gates,2,2,3)+\\\n",
    "pygsti.construction.list_random_gatestrings_onelen(std1Q_XYI.gates,3,2,3)+\\\n",
    "pygsti.construction.list_random_gatestrings_onelen(std1Q_XYI.gates,4,2,3)+\\\n",
    "pygsti.construction.list_random_gatestrings_onelen(std1Q_XYI.gates,5,1,3)\n",
    "\n",
    "print bad_germ_list"
   ]
  },
  {
   "cell_type": "code",
   "execution_count": 5,
   "metadata": {
    "collapsed": false
   },
   "outputs": [],
   "source": [
    "bad_germ_list = pygsti.construction.list_all_gatestrings_onelen(std1Q_XYI.gates,1)"
   ]
  },
  {
   "cell_type": "code",
   "execution_count": 6,
   "metadata": {
    "collapsed": false
   },
   "outputs": [
    {
     "name": "stdout",
     "output_type": "stream",
     "text": [
      "3\n",
      "11\n"
     ]
    }
   ],
   "source": [
    "print len(bad_germ_list)\n",
    "print len(std1Q_XYI.germs)"
   ]
  },
  {
   "cell_type": "code",
   "execution_count": 7,
   "metadata": {
    "collapsed": true
   },
   "outputs": [],
   "source": [
    "goodSVs = germselection.test_germ_list_infl(gs_true,std1Q_XYI.germs,returnSpectrum=True,check=True)[1]\n",
    "badSVs = germselection.test_germ_list_infl(gs_true,bad_germ_list,returnSpectrum=True,check=True)[1]"
   ]
  },
  {
   "cell_type": "code",
   "execution_count": 8,
   "metadata": {
    "collapsed": true
   },
   "outputs": [],
   "source": [
    "def removeSPAMVectors(gateset):\n",
    "    reducedGateset = gateset.copy()\n",
    "    for prepLabel in reducedGateset.preps:\n",
    "        del reducedGateset.preps[prepLabel]\n",
    "    for effectLabel in reducedGateset.effects:\n",
    "        del reducedGateset.effects[effectLabel]\n",
    "    return reducedGateset"
   ]
  },
  {
   "cell_type": "code",
   "execution_count": 9,
   "metadata": {
    "collapsed": false
   },
   "outputs": [
    {
     "data": {
      "text/plain": [
       "14"
      ]
     },
     "execution_count": 9,
     "metadata": {},
     "output_type": "execute_result"
    }
   ],
   "source": [
    "#Not counting SPAM parameters, how many gauge parameters are there in the gate set?\n",
    "removeSPAMVectors(gs_true).num_gauge_params()"
   ]
  },
  {
   "cell_type": "code",
   "execution_count": 10,
   "metadata": {
    "collapsed": true
   },
   "outputs": [],
   "source": [
    "sortedGoodSVs = np.sort(np.abs(goodSVs))\n",
    "sortedBadSVs = np.sort(np.abs(badSVs))"
   ]
  },
  {
   "cell_type": "code",
   "execution_count": 11,
   "metadata": {
    "collapsed": false
   },
   "outputs": [
    {
     "data": {
      "image/png": "[encoded data removed]",
      "text/plain": [
       "<matplotlib.figure.Figure at 0x10ee63310>"
      ]
     },
     "metadata": {},
     "output_type": "display_data"
    }
   ],
   "source": [
    "plt.semilogy(sortedGoodSVs,'v')\n",
    "plt.semilogy(sortedBadSVs,'^')\n",
    "plt.xlabel('Singular value index')\n",
    "plt.ylabel('Singular value')\n",
    "plt.axvline(13.5,linestyle='--')\n",
    "plt.savefig('../Figures/Fig7.pdf')"
   ]
  },
  {
   "cell_type": "code",
   "execution_count": 12,
   "metadata": {
    "collapsed": false
   },
   "outputs": [
    {
     "data": {
      "text/plain": [
       "48"
      ]
     },
     "execution_count": 12,
     "metadata": {},
     "output_type": "execute_result"
    }
   ],
   "source": [
    "len(np.sort(np.abs(goodSVs)))"
   ]
  },
  {
   "cell_type": "code",
   "execution_count": 13,
   "metadata": {
    "collapsed": false
   },
   "outputs": [
    {
     "name": "stdout",
     "output_type": "stream",
     "text": [
      "1.81229403158e-17 5.4836730265e-20\n",
      "2.05340069e-17 1.08293696377e-18\n",
      "3.5259113677e-17 1.95881924205e-18\n",
      "5.14670555008e-17 4.61830561694e-18\n",
      "8.02413070231e-17 8.295267047e-18\n",
      "1.14217994863e-16 8.42165744195e-18\n",
      "2.2170373933e-16 1.74538008202e-17\n",
      "2.37004370744e-16 2.31620636567e-17\n",
      "2.78940938684e-16 4.61322297388e-17\n",
      "3.05841401454e-16 5.36712560493e-17\n",
      "3.57375988302e-16 6.51883823068e-17\n",
      "3.93390310861e-16 7.10030676709e-17\n",
      "3.97734534277e-16 8.69616665849e-17\n",
      "5.13932946329e-16 9.39013758997e-17\n",
      "0.0385827366741 1.02688316775e-16\n",
      "0.0719302027777 1.13136072103e-16\n",
      "0.145673794343 1.22501386633e-16\n",
      "0.161270259533 1.29756305748e-16\n",
      "0.191925213841 1.35905526858e-16\n",
      "0.191925213841 1.40984644637e-16\n",
      "0.191925213841 1.61590579401e-16\n",
      "0.215627147503 1.80411241502e-16\n",
      "0.338312764841 1.85618033625e-16\n",
      "0.338312764841 1.9447025088e-16\n",
      "0.338312764841 2.00418497596e-16\n",
      "0.533414006663 2.12069962701e-16\n",
      "0.561767134379 2.20917475155e-16\n",
      "0.561767134379 3.37121984593e-16\n",
      "0.561767134379 3.49289911765e-16\n",
      "1.01888218592 4.64073916696e-16\n",
      "1.17361111111 1.0\n",
      "1.17361111111 1.0\n",
      "1.17884399187 1.0\n",
      "1.23558266538 1.0\n",
      "1.23558266538 1.0\n",
      "1.23558266538 1.0\n",
      "1.2481553135 1.0\n",
      "1.31415291899 1.0\n",
      "1.31987452534 1.0\n",
      "1.31987452534 1.0\n",
      "1.31987452534 1.0\n",
      "1.68050716339 1.0\n",
      "1.68050716339 1.0\n",
      "2.27152117756 1.0\n",
      "2.27152117756 1.0\n",
      "2.27152117756 1.0\n",
      "3.67365950328 1.0\n",
      "3.67365950328 1.0\n"
     ]
    }
   ],
   "source": [
    "for i in xrange(48):\n",
    "    print sortedGoodSVs[i], sortedBadSVs[i]"
   ]
  },
  {
   "cell_type": "code",
   "execution_count": null,
   "metadata": {
    "collapsed": true
   },
   "outputs": [],
   "source": []
  }
 ],
 "metadata": {
  "kernelspec": {
   "display_name": "Python 2",
   "language": "python",
   "name": "python2"
  },
  "language_info": {
   "codemirror_mode": {
    "name": "ipython",
    "version": 2
   },
   "file_extension": ".py",
   "mimetype": "text/x-python",
   "name": "python",
   "nbconvert_exporter": "python",
   "pygments_lexer": "ipython2",
   "version": "2.7.9"
  }
 },
 "nbformat": 4,
 "nbformat_minor": 0
}
