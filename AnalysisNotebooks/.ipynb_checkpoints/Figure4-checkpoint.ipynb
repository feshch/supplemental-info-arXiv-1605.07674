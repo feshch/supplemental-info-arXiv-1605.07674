{
 "cells": [
  {
   "cell_type": "code",
   "execution_count": 1,
   "metadata": {
    "collapsed": false
   },
   "outputs": [],
   "source": [
    "import pygsti\n",
    "from pygsti.construction import std1Q_XYI\n",
    "import matplotlib.pyplot as plt\n",
    "import pygsti.report.plotting as pplt\n",
    "#%matplotlib inline"
   ]
  },
  {
   "cell_type": "code",
   "execution_count": 19,
   "metadata": {
    "collapsed": true
   },
   "outputs": [],
   "source": [
    "import time"
   ]
  },
  {
   "cell_type": "code",
   "execution_count": 2,
   "metadata": {
    "collapsed": true
   },
   "outputs": [],
   "source": [
    "gs_target = std1Q_XYI.gs_target"
   ]
  },
  {
   "cell_type": "code",
   "execution_count": 3,
   "metadata": {
    "collapsed": true
   },
   "outputs": [],
   "source": [
    "specs = pygsti.construction.build_spam_specs(fiducialGateStrings=std1Q_XYI.fiducials)\n",
    "strs = pygsti.construction.get_spam_strs(specs)\n"
   ]
  },
  {
   "cell_type": "code",
   "execution_count": 4,
   "metadata": {
    "collapsed": false
   },
   "outputs": [],
   "source": [
    "gsMarkov = gs_target.rotate(max_rotate=0.01,seed=0)"
   ]
  },
  {
   "cell_type": "code",
   "execution_count": 5,
   "metadata": {
    "collapsed": false
   },
   "outputs": [],
   "source": [
    "maxLengths1024 = [0,1,2,4,8,16,32,64,128,256,512,1024]\n",
    "\n",
    "lsgstList1024 = pygsti.construction.make_lsgst_lists(['Gx','Gy','Gi'],std1Q_XYI.fiducials,std1Q_XYI.fiducials,std1Q_XYI.germs,maxLengths1024)\n"
   ]
  },
  {
   "cell_type": "code",
   "execution_count": 6,
   "metadata": {
    "collapsed": true
   },
   "outputs": [],
   "source": [
    "dsMarkov = pygsti.construction.datasetconstruction.generate_fake_data(gsMarkov,lsgstList1024[-1],50,sampleError='binomial',seed=0)"
   ]
  },
  {
   "cell_type": "code",
   "execution_count": 7,
   "metadata": {
    "collapsed": false
   },
   "outputs": [
    {
     "name": "stdout",
     "output_type": "stream",
     "text": [
      "Loading ../ExperimentalData/2015_03_02-GST_condensed.txt: 100%\n"
     ]
    }
   ],
   "source": [
    "dsNonMarkov_03_02 = pygsti.io.load_dataset('../ExperimentalData/2015_03_02-GST_condensed.txt')"
   ]
  },
  {
   "cell_type": "code",
   "execution_count": 8,
   "metadata": {
    "collapsed": false
   },
   "outputs": [
    {
     "name": "stdout",
     "output_type": "stream",
     "text": [
      "Loading ../ExperimentalData/2015_03_30-GST_BB1_XYXY_8192_condensed.txt: 100%\n"
     ]
    }
   ],
   "source": [
    "dsNonMarkov_03_30 = pygsti.io.load_dataset('../ExperimentalData/2015_03_30-GST_BB1_XYXY_8192_condensed.txt')"
   ]
  },
  {
   "cell_type": "code",
   "execution_count": 9,
   "metadata": {
    "collapsed": false,
    "scrolled": true
   },
   "outputs": [
    {
     "name": "stdout",
     "output_type": "stream",
     "text": [
      "--- LGST ---\n",
      "  Singular values of I_tilde (truncating to first 4 of 6) = \n",
      "  4.24417577868\n",
      "  1.54736627886\n",
      "  1.438188779\n",
      "  1.31813769921\n",
      "  0.0692411473946\n",
      "  0.0190069469912\n",
      "  \n",
      "  Singular values of target I_tilde (truncating to first 4 of 6) = \n",
      "  4.24264068712\n",
      "  1.41421356237\n",
      "  1.41421356237\n",
      "  1.41421356237\n",
      "  3.83919830312e-16\n",
      "  1.25055389834e-16\n",
      "  \n",
      "--- Gauge Optimization to TP (L-BFGS-B) ---\n",
      "  The resulting TP penalty is: 3.63035e-06\n",
      "  \n",
      "--- Iterative MLGST: Iter 01 of 12  92 gate strings ---: \n",
      "  --- Minimum Chi^2 GST ---\n",
      "    Sum of Chi^2 = 40.7103 (92 data params - 31 model params = expected mean of 61; p-value = 0.978829)\n",
      "    Completed in 0.3s\n",
      "  2*Delta(log(L)) = 42.7716\n",
      "  Iteration 1 took 0.0s\n",
      "  \n",
      "--- Iterative MLGST: Iter 02 of 12  92 gate strings ---: \n",
      "  --- Minimum Chi^2 GST ---\n",
      "    Sum of Chi^2 = 40.7103 (92 data params - 31 model params = expected mean of 61; p-value = 0.97883)\n",
      "    Completed in 0.1s\n",
      "  2*Delta(log(L)) = 42.7745\n",
      "  Iteration 2 took 0.0s\n",
      "  \n",
      "--- Iterative MLGST: Iter 03 of 12  168 gate strings ---: \n",
      "  --- Minimum Chi^2 GST ---\n",
      "    Sum of Chi^2 = 103.65 (168 data params - 31 model params = expected mean of 137; p-value = 0.984811)\n",
      "    Completed in 0.3s\n",
      "  2*Delta(log(L)) = 107.414\n",
      "  Iteration 3 took 0.0s\n",
      "  \n",
      "--- Iterative MLGST: Iter 04 of 12  441 gate strings ---: \n",
      "  --- Minimum Chi^2 GST ---\n",
      "    Sum of Chi^2 = 301.892 (441 data params - 31 model params = expected mean of 410; p-value = 0.999983)\n",
      "    Completed in 0.6s\n",
      "  2*Delta(log(L)) = 309.713\n",
      "  Iteration 4 took 0.0s\n",
      "  \n",
      "--- Iterative MLGST: Iter 05 of 12  817 gate strings ---: \n",
      "  --- Minimum Chi^2 GST ---\n",
      "    Sum of Chi^2 = 616.848 (817 data params - 31 model params = expected mean of 786; p-value = 0.999998)\n",
      "    Completed in 1.3s\n",
      "  2*Delta(log(L)) = 637.208\n",
      "  Iteration 5 took 0.0s\n",
      "  \n",
      "--- Iterative MLGST: Iter 06 of 12  1201 gate strings ---: \n",
      "  --- Minimum Chi^2 GST ---\n",
      "    Sum of Chi^2 = 943.603 (1201 data params - 31 model params = expected mean of 1170; p-value = 1)\n",
      "    Completed in 1.5s\n",
      "  2*Delta(log(L)) = 993.961\n",
      "  Iteration 6 took 0.0s\n",
      "  \n",
      "--- Iterative MLGST: Iter 07 of 12  1585 gate strings ---: \n",
      "  --- Minimum Chi^2 GST ---\n",
      "    Sum of Chi^2 = 1314.7 (1585 data params - 31 model params = expected mean of 1554; p-value = 0.999997)\n",
      "    Completed in 2.8s\n",
      "  2*Delta(log(L)) = 1411.84\n",
      "  Iteration 7 took 0.0s\n",
      "  \n",
      "--- Iterative MLGST: Iter 08 of 12  1969 gate strings ---: \n",
      "  --- Minimum Chi^2 GST ---\n",
      "    Sum of Chi^2 = 1695.88 (1969 data params - 31 model params = expected mean of 1938; p-value = 0.999975)\n",
      "    Completed in 2.7s\n",
      "  2*Delta(log(L)) = 1824.54\n",
      "  Iteration 8 took 0.1s\n",
      "  \n",
      "--- Iterative MLGST: Iter 09 of 12  2353 gate strings ---: \n",
      "  --- Minimum Chi^2 GST ---\n",
      "    Sum of Chi^2 = 2064.32 (2353 data params - 31 model params = expected mean of 2322; p-value = 0.999956)\n",
      "    Completed in 4.0s\n",
      "  2*Delta(log(L)) = 2214.89\n",
      "  Iteration 9 took 0.1s\n",
      "  \n",
      "--- Iterative MLGST: Iter 10 of 12  2737 gate strings ---: \n",
      "  --- Minimum Chi^2 GST ---\n",
      "    Sum of Chi^2 = 2399.22 (2737 data params - 31 model params = expected mean of 2706; p-value = 0.999993)\n",
      "    Completed in 4.7s\n",
      "  2*Delta(log(L)) = 2571.68\n",
      "  Iteration 10 took 0.1s\n",
      "  \n",
      "--- Iterative MLGST: Iter 11 of 12  3121 gate strings ---: \n",
      "  --- Minimum Chi^2 GST ---\n",
      "    Sum of Chi^2 = 2779.63 (3121 data params - 31 model params = expected mean of 3090; p-value = 0.999977)\n",
      "    Completed in 5.8s\n",
      "  2*Delta(log(L)) = 2980.75\n",
      "  Iteration 11 took 0.5s\n",
      "  \n",
      "--- Iterative MLGST: Iter 12 of 12  3505 gate strings ---: \n",
      "  --- Minimum Chi^2 GST ---\n",
      "    Sum of Chi^2 = 3180.92 (3505 data params - 31 model params = expected mean of 3474; p-value = 0.999848)\n",
      "    Completed in 21.0s\n",
      "  2*Delta(log(L)) = 3410.5\n",
      "  Iteration 12 took 2.1s\n",
      "  \n",
      "  Switching to ML objective (last iteration)\n",
      "  --- MLGST ---\n",
      "    Maximum log(L) = 1644.95 below upper bound of -258213\n",
      "      2*Delta(log(L)) = 3289.9 (3505 data params - 31 model params = expected mean of 3474; p-value = 0.987481)\n",
      "    Completed in 9.4s\n",
      "  2*Delta(log(L)) = 3289.9\n",
      "  Final MLGST took 9.4s\n",
      "  \n",
      "Iterative MLGST Total Time: 57.4s\n"
     ]
    },
    {
     "name": "stderr",
     "output_type": "stream",
     "text": [
      "/Users/kmrudin/pyGSTi/packages/pygsti/drivers/longsequence.py:161: UserWarning: 'verbosity' as an advanced option is deprecated. Please use the 'verbosity' argument directly.\n",
      "  \" Please use the 'verbosity' argument directly.\")\n"
     ]
    }
   ],
   "source": [
    "resultsMarkov = pygsti.do_long_sequence_gst(dsMarkov,gs_target,std1Q_XYI.fiducials,std1Q_XYI.fiducials,std1Q_XYI.germs,maxLengths1024,constrainToTP=True,advancedOptions={'verbosity':2})"
   ]
  },
  {
   "cell_type": "code",
   "execution_count": 10,
   "metadata": {
    "collapsed": false,
    "scrolled": true
   },
   "outputs": [
    {
     "name": "stdout",
     "output_type": "stream",
     "text": [
      "--- LGST ---\n",
      "  Singular values of I_tilde (truncating to first 4 of 6) = \n",
      "  4.24355905725\n",
      "  1.41140704734\n",
      "  1.40110586201\n",
      "  1.39557174047\n",
      "  0.120805091095\n",
      "  0.0507916037734\n",
      "  \n",
      "  Singular values of target I_tilde (truncating to first 4 of 6) = \n",
      "  4.24264068712\n",
      "  1.41421356237\n",
      "  1.41421356237\n",
      "  1.41421356237\n",
      "  3.83919830312e-16\n",
      "  1.25055389834e-16\n",
      "  \n",
      "--- Gauge Optimization to TP (L-BFGS-B) ---\n",
      "  The resulting TP penalty is: 2.1143e-06\n",
      "  \n",
      "--- Iterative MLGST: Iter 01 of 12  92 gate strings ---: \n",
      "  --- Minimum Chi^2 GST ---\n",
      "    Sum of Chi^2 = 59.0736 (92 data params - 31 model params = expected mean of 61; p-value = 0.546062)\n",
      "    Completed in 0.3s\n",
      "  2*Delta(log(L)) = 66.8876\n",
      "  Iteration 1 took 0.0s\n",
      "  \n",
      "--- Iterative MLGST: Iter 02 of 12  92 gate strings ---: \n",
      "  --- Minimum Chi^2 GST ---\n",
      "    Sum of Chi^2 = 59.0736 (92 data params - 31 model params = expected mean of 61; p-value = 0.546062)\n",
      "    Completed in 0.1s\n",
      "  2*Delta(log(L)) = 66.8876\n",
      "  Iteration 2 took 0.0s\n",
      "  \n",
      "--- Iterative MLGST: Iter 03 of 12  168 gate strings ---: \n",
      "  --- Minimum Chi^2 GST ---\n",
      "    Sum of Chi^2 = 138.512 (168 data params - 31 model params = expected mean of 137; p-value = 0.447782)\n",
      "    Completed in 0.5s\n",
      "  2*Delta(log(L)) = 156.726\n",
      "  Iteration 3 took 0.0s\n",
      "  \n",
      "--- Iterative MLGST: Iter 04 of 12  441 gate strings ---: \n",
      "  --- Minimum Chi^2 GST ---\n",
      "    Sum of Chi^2 = 401.067 (441 data params - 31 model params = expected mean of 410; p-value = 0.614444)\n",
      "    Completed in 0.7s\n",
      "  2*Delta(log(L)) = 450.003\n",
      "  Iteration 4 took 0.0s\n",
      "  \n",
      "--- Iterative MLGST: Iter 05 of 12  817 gate strings ---: \n",
      "  --- Minimum Chi^2 GST ---\n",
      "    Sum of Chi^2 = 915.398 (817 data params - 31 model params = expected mean of 786; p-value = 0.000914826)\n",
      "    Completed in 1.4s\n",
      "  2*Delta(log(L)) = 1020.34\n",
      "  Iteration 5 took 0.0s\n",
      "  \n",
      "--- Iterative MLGST: Iter 06 of 12  1201 gate strings ---: \n",
      "  --- Minimum Chi^2 GST ---\n",
      "    Sum of Chi^2 = 1398.21 (1201 data params - 31 model params = expected mean of 1170; p-value = 4.18889e-06)\n",
      "    Completed in 1.2s\n",
      "  2*Delta(log(L)) = 1540.84\n",
      "  Iteration 6 took 0.0s\n",
      "  \n",
      "--- Iterative MLGST: Iter 07 of 12  1585 gate strings ---: \n",
      "  --- Minimum Chi^2 GST ---\n",
      "    Sum of Chi^2 = 1821.71 (1585 data params - 31 model params = expected mean of 1554; p-value = 2.52386e-06)\n",
      "    Completed in 3.0s\n",
      "  2*Delta(log(L)) = 1996.43\n",
      "  Iteration 7 took 0.0s\n",
      "  \n",
      "--- Iterative MLGST: Iter 08 of 12  1969 gate strings ---: \n",
      "  --- Minimum Chi^2 GST ---\n",
      "    Sum of Chi^2 = 2306.61 (1969 data params - 31 model params = expected mean of 1938; p-value = 1.11751e-08)\n",
      "    Completed in 2.1s\n",
      "  2*Delta(log(L)) = 2500.32\n",
      "  Iteration 8 took 0.1s\n",
      "  \n",
      "--- Iterative MLGST: Iter 09 of 12  2353 gate strings ---: \n",
      "  --- Minimum Chi^2 GST ---\n",
      "    Sum of Chi^2 = 2698.8 (2353 data params - 31 model params = expected mean of 2322; p-value = 6.99859e-08)\n",
      "    Completed in 2.6s\n",
      "  2*Delta(log(L)) = 2931.41\n",
      "  Iteration 9 took 0.1s\n",
      "  \n",
      "--- Iterative MLGST: Iter 10 of 12  2737 gate strings ---: \n",
      "  --- Minimum Chi^2 GST ---\n",
      "    Sum of Chi^2 = 3165.99 (2737 data params - 31 model params = expected mean of 2706; p-value = 1.43496e-09)\n",
      "    Completed in 5.2s\n",
      "  2*Delta(log(L)) = 3427.55\n",
      "  Iteration 10 took 0.2s\n",
      "  \n",
      "--- Iterative MLGST: Iter 11 of 12  3121 gate strings ---: \n",
      "  --- Minimum Chi^2 GST ---\n",
      "    Sum of Chi^2 = 3914.4 (3121 data params - 31 model params = expected mean of 3090; p-value = 0)\n",
      "    Completed in 5.6s\n",
      "  2*Delta(log(L)) = 4222\n",
      "  Iteration 11 took 0.5s\n",
      "  \n",
      "--- Iterative MLGST: Iter 12 of 12  3505 gate strings ---: \n",
      "  --- Minimum Chi^2 GST ---\n",
      "    Sum of Chi^2 = 5012.34 (3505 data params - 31 model params = expected mean of 3474; p-value = 0)\n",
      "    Completed in 13.2s\n",
      "  2*Delta(log(L)) = 5410.85\n",
      "  Iteration 12 took 2.2s\n",
      "  \n",
      "  Switching to ML objective (last iteration)\n",
      "  --- MLGST ---\n",
      "    Maximum log(L) = 2576.37 below upper bound of -732886\n",
      "      2*Delta(log(L)) = 5152.75 (3505 data params - 31 model params = expected mean of 3474; p-value = 0)\n",
      "    Completed in 10.4s\n",
      "  2*Delta(log(L)) = 5152.75\n",
      "  Final MLGST took 10.4s\n",
      "  \n",
      "Iterative MLGST Total Time: 49.5s\n"
     ]
    }
   ],
   "source": [
    "resultsNonMarkov_03_02 = pygsti.do_long_sequence_gst(dsNonMarkov_03_02,gs_target,std1Q_XYI.fiducials,std1Q_XYI.fiducials,std1Q_XYI.germs,maxLengths1024,constrainToTP=True,advancedOptions={'verbosity':2})"
   ]
  },
  {
   "cell_type": "code",
   "execution_count": 11,
   "metadata": {
    "collapsed": false,
    "scrolled": true
   },
   "outputs": [
    {
     "name": "stdout",
     "output_type": "stream",
     "text": [
      "--- LGST ---\n",
      "  Singular values of I_tilde (truncating to first 4 of 6) = \n",
      "  4.25819854092\n",
      "  1.5308994112\n",
      "  1.42950742749\n",
      "  1.2722822018\n",
      "  0.281178027272\n",
      "  0.107877753228\n",
      "  \n",
      "  Singular values of target I_tilde (truncating to first 4 of 6) = \n",
      "  4.24264068712\n",
      "  1.41421356237\n",
      "  1.41421356237\n",
      "  1.41421356237\n",
      "  3.83919830312e-16\n",
      "  1.25055389834e-16\n",
      "  \n",
      "--- Gauge Optimization to TP (L-BFGS-B) ---\n",
      "  The resulting TP penalty is: 2.81077e-05\n",
      "  \n",
      "--- Iterative MLGST: Iter 01 of 12  92 gate strings ---: \n",
      "  --- Minimum Chi^2 GST ---\n",
      "    Sum of Chi^2 = 49.0954 (92 data params - 31 model params = expected mean of 61; p-value = 0.863398)\n",
      "    Completed in 0.2s\n",
      "  2*Delta(log(L)) = 56.5401\n",
      "  Iteration 1 took 0.0s\n",
      "  \n",
      "--- Iterative MLGST: Iter 02 of 12  92 gate strings ---: \n",
      "  --- Minimum Chi^2 GST ---\n",
      "    Sum of Chi^2 = 49.0954 (92 data params - 31 model params = expected mean of 61; p-value = 0.863398)\n",
      "    Completed in 0.1s\n",
      "  2*Delta(log(L)) = 56.54\n",
      "  Iteration 2 took 0.0s\n",
      "  \n",
      "--- Iterative MLGST: Iter 03 of 12  168 gate strings ---: \n",
      "  --- Minimum Chi^2 GST ---\n",
      "    Sum of Chi^2 = 111.078 (168 data params - 31 model params = expected mean of 137; p-value = 0.949121)\n",
      "    Completed in 0.5s\n",
      "  2*Delta(log(L)) = 128.532\n",
      "  Iteration 3 took 0.0s\n",
      "  \n",
      "--- Iterative MLGST: Iter 04 of 12  441 gate strings ---: \n",
      "  --- Minimum Chi^2 GST ---\n",
      "    Sum of Chi^2 = 384.933 (441 data params - 31 model params = expected mean of 410; p-value = 0.807979)\n",
      "    Completed in 1.1s\n",
      "  2*Delta(log(L)) = 441.923\n",
      "  Iteration 4 took 0.0s\n",
      "  \n",
      "--- Iterative MLGST: Iter 05 of 12  817 gate strings ---: \n",
      "  --- Minimum Chi^2 GST ---\n",
      "    Sum of Chi^2 = 723.659 (817 data params - 31 model params = expected mean of 786; p-value = 0.94509)\n",
      "    Completed in 1.1s\n",
      "  2*Delta(log(L)) = 835.787\n",
      "  Iteration 5 took 0.0s\n",
      "  \n",
      "--- Iterative MLGST: Iter 06 of 12  1201 gate strings ---: \n",
      "  --- Minimum Chi^2 GST ---\n",
      "    Sum of Chi^2 = 1050.55 (1201 data params - 31 model params = expected mean of 1170; p-value = 0.994534)\n",
      "    Completed in 1.5s\n",
      "  2*Delta(log(L)) = 1218.86\n",
      "  Iteration 6 took 0.0s\n",
      "  \n",
      "--- Iterative MLGST: Iter 07 of 12  1585 gate strings ---: \n",
      "  --- Minimum Chi^2 GST ---\n",
      "    Sum of Chi^2 = 1403.39 (1585 data params - 31 model params = expected mean of 1554; p-value = 0.9973)\n",
      "    Completed in 2.1s\n",
      "  2*Delta(log(L)) = 1626.84\n",
      "  Iteration 7 took 0.1s\n",
      "  \n",
      "--- Iterative MLGST: Iter 08 of 12  1969 gate strings ---: \n",
      "  --- Minimum Chi^2 GST ---\n",
      "    Sum of Chi^2 = 1780.27 (1969 data params - 31 model params = expected mean of 1938; p-value = 0.995269)\n",
      "    Completed in 3.9s\n",
      "  2*Delta(log(L)) = 2061.41\n",
      "  Iteration 8 took 0.1s\n",
      "  \n",
      "--- Iterative MLGST: Iter 09 of 12  2353 gate strings ---: \n",
      "  --- Minimum Chi^2 GST ---\n",
      "    Sum of Chi^2 = 2146.17 (2353 data params - 31 model params = expected mean of 2322; p-value = 0.995836)\n",
      "    Completed in 3.6s\n",
      "  2*Delta(log(L)) = 2500.58\n",
      "  Iteration 9 took 0.1s\n",
      "  \n",
      "--- Iterative MLGST: Iter 10 of 12  2737 gate strings ---: \n",
      "  --- Minimum Chi^2 GST ---\n",
      "    Sum of Chi^2 = 2522.43 (2737 data params - 31 model params = expected mean of 2706; p-value = 0.994536)\n",
      "    Completed in 5.2s\n",
      "  2*Delta(log(L)) = 2925.94\n",
      "  Iteration 10 took 0.2s\n",
      "  \n",
      "--- Iterative MLGST: Iter 11 of 12  3121 gate strings ---: \n",
      "  --- Minimum Chi^2 GST ---\n",
      "    Sum of Chi^2 = 2895.94 (3121 data params - 31 model params = expected mean of 3090; p-value = 0.994025)\n",
      "    Completed in 6.5s\n",
      "  2*Delta(log(L)) = 3356.16\n",
      "  Iteration 11 took 0.5s\n",
      "  \n",
      "--- Iterative MLGST: Iter 12 of 12  3505 gate strings ---: \n",
      "  --- Minimum Chi^2 GST ---\n",
      "    Sum of Chi^2 = 3296.52 (3505 data params - 31 model params = expected mean of 3474; p-value = 0.984556)\n",
      "    Completed in 10.4s\n",
      "  2*Delta(log(L)) = 3796.81\n",
      "  Iteration 12 took 2.2s\n",
      "  \n",
      "  Switching to ML objective (last iteration)\n",
      "  --- MLGST ---\n",
      "    Maximum log(L) = 1801.38 below upper bound of -259500\n",
      "      2*Delta(log(L)) = 3602.76 (3505 data params - 31 model params = expected mean of 3474; p-value = 0.0625118)\n",
      "    Completed in 8.8s\n",
      "  2*Delta(log(L)) = 3602.76\n",
      "  Final MLGST took 8.8s\n",
      "  \n",
      "Iterative MLGST Total Time: 48.3s\n"
     ]
    },
    {
     "name": "stderr",
     "output_type": "stream",
     "text": [
      "/Users/kmrudin/pyGSTi/packages/pygsti/drivers/longsequence.py:230: UserWarning: Could not gauge optimize to TP (penalty=2.81077e-05), so contracted LGST gateset to TP\n",
      "  _warnings.warn(\"Could not gauge optimize to TP (penalty=%g), so contracted LGST gateset to TP\" % minPenalty)\n"
     ]
    }
   ],
   "source": [
    "resultsNonMarkov_03_30 = pygsti.do_long_sequence_gst(dsNonMarkov_03_30,gs_target,std1Q_XYI.fiducials,std1Q_XYI.fiducials,std1Q_XYI.germs,maxLengths1024,constrainToTP=True,advancedOptions={'verbosity':2})"
   ]
  },
  {
   "cell_type": "code",
   "execution_count": 12,
   "metadata": {
    "collapsed": true
   },
   "outputs": [],
   "source": [
    "Xs = maxLengths1024[1:]; xlbl = \"L (max length)\"\n",
    "Ys = std1Q_XYI.germs; ylbl = \"Germ\"\n",
    "gateStrDict = { (x,y):pygsti.construction.repeat_with_max_length(y,x,False) for x in Xs for y in Ys }\n",
    "\n",
    "runningList = []\n",
    "for x in Xs:\n",
    "    for y in Ys:\n",
    "        if gateStrDict[(x,y)] in runningList:\n",
    "            gateStrDict[(x,y)] = None\n",
    "        else: runningList.append( gateStrDict[(x,y)] )"
   ]
  },
  {
   "cell_type": "code",
   "execution_count": 13,
   "metadata": {
    "collapsed": false
   },
   "outputs": [
    {
     "data": {
      "text/plain": [
       "<pygsti.report.figure.ReportFigure at 0x116c8a810>"
      ]
     },
     "execution_count": 13,
     "metadata": {},
     "output_type": "execute_result"
    }
   ],
   "source": [
    "pplt.logl_boxplot( Xs, Ys, gateStrDict, dsMarkov, resultsMarkov.gatesets['final estimate'], strs, xlbl, ylbl,\n",
    "                 title='',sumUp=True, save_to='../Figures/4a.pdf')"
   ]
  },
  {
   "cell_type": "code",
   "execution_count": 35,
   "metadata": {
    "collapsed": false
   },
   "outputs": [
    {
     "data": {
      "text/plain": [
       "<pygsti.report.figure.ReportFigure at 0x120e6f790>"
      ]
     },
     "execution_count": 35,
     "metadata": {},
     "output_type": "execute_result"
    }
   ],
   "source": [
    "pplt.logl_boxplot( Xs, Ys, gateStrDict, dsNonMarkov_03_02, resultsNonMarkov_03_02.gatesets['final estimate'], strs, xlbl, ylbl,\n",
    "                title='',sumUp=True, save_to='../Figures/4b.pdf')"
   ]
  },
  {
   "cell_type": "code",
   "execution_count": 30,
   "metadata": {
    "collapsed": false
   },
   "outputs": [
    {
     "name": "stdout",
     "output_type": "stream",
     "text": [
      "650.508191824\n"
     ]
    }
   ],
   "source": [
    "start = time.time()\n",
    "pplt.logl_boxplot( Xs, Ys, gateStrDict, dsNonMarkov_03_30, resultsNonMarkov_03_30.gatesets['final estimate'], strs, xlbl, ylbl,\n",
    "                title='',sumUp=True, save_to='../Figures/4c.pdf')\n",
    "end = time.time()\n",
    "print end - start"
   ]
  },
  {
   "cell_type": "code",
   "execution_count": 21,
   "metadata": {
    "collapsed": false
   },
   "outputs": [
    {
     "name": "stdout",
     "output_type": "stream",
     "text": [
      "rho0 =    0.7071        0  -0.0041   0.7016\n",
      "\n",
      "\n",
      "E0 =    0.7019  -0.0013   0.0008  -0.7016\n",
      "\n",
      "\n",
      "Gi = \n",
      "   1.0000        0        0        0\n",
      "        0   0.9999        0        0\n",
      "        0        0   0.9999        0\n",
      "        0  -0.0001        0   1.0000\n",
      "\n",
      "\n",
      "Gx = \n",
      "   1.0000        0        0        0\n",
      "        0   0.9999        0        0\n",
      "        0        0        0  -0.9999\n",
      "        0        0   0.9999  -0.0002\n",
      "\n",
      "\n",
      "Gy = \n",
      "   1.0000        0        0        0\n",
      "        0        0        0   0.9999\n",
      "        0   0.0001   0.9999        0\n",
      "        0  -0.9999  -0.0002        0\n",
      "\n",
      "\n",
      "\n"
     ]
    }
   ],
   "source": [
    "print resultsNonMarkov_03_30.gatesets['final estimate']"
   ]
  },
  {
   "cell_type": "code",
   "execution_count": 28,
   "metadata": {
    "collapsed": false
   },
   "outputs": [
    {
     "name": "stdout",
     "output_type": "stream",
     "text": [
      "12.0574440956\n",
      "7141.50206736\n"
     ]
    }
   ],
   "source": [
    "start = time.time()\n",
    "chi2val = pygsti.chi2(dsNonMarkov_03_02,resultsNonMarkov_03_02.gatesets['final estimate'])\n",
    "end = time.time()\n",
    "print end - start\n",
    "print chi2val"
   ]
  },
  {
   "cell_type": "code",
   "execution_count": 29,
   "metadata": {
    "collapsed": false
   },
   "outputs": [
    {
     "name": "stdout",
     "output_type": "stream",
     "text": [
      "639.498663902\n",
      "9005.3159579\n"
     ]
    }
   ],
   "source": [
    "start = time.time()\n",
    "chi2val = pygsti.chi2(dsNonMarkov_03_30,resultsNonMarkov_03_30.gatesets['final estimate'])\n",
    "end = time.time()\n",
    "print end - start\n",
    "print chi2val"
   ]
  },
  {
   "cell_type": "code",
   "execution_count": null,
   "metadata": {
    "collapsed": true
   },
   "outputs": [],
   "source": []
  }
 ],
 "metadata": {
  "kernelspec": {
   "display_name": "Python 2",
   "language": "python",
   "name": "python2"
  },
  "language_info": {
   "codemirror_mode": {
    "name": "ipython",
    "version": 2
   },
   "file_extension": ".py",
   "mimetype": "text/x-python",
   "name": "python",
   "nbconvert_exporter": "python",
   "pygments_lexer": "ipython2",
   "version": "2.7.9"
  }
 },
 "nbformat": 4,
 "nbformat_minor": 0
}
