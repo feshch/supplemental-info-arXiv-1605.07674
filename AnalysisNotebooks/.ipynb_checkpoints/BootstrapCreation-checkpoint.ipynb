{
 "cells": [
  {
   "cell_type": "code",
   "execution_count": 1,
   "metadata": {
    "collapsed": true
   },
   "outputs": [],
   "source": [
    "import pygsti\n",
    "from pygsti.construction import std1Q_XYI"
   ]
  },
  {
   "cell_type": "code",
   "execution_count": null,
   "metadata": {
    "collapsed": true
   },
   "outputs": [],
   "source": [
    "#This notebook creates creates the bootstrapped gate sets necessary for the analysis given in Figure 8 as well as the\n",
    "#error bars for Figure 5b.  \n",
    "\n",
    "#THIS WILL TAKE A VERY LONG TIME (~100s of hours);\n",
    "#recommended that this notebook only be used as a schematic for parallelized bootstrapping.\n",
    "\n",
    "#Alternatively, you can get precomputed bootstrapped gate sets in ../ComputedObjects/GST_Bootstrap-8192_10-20-16/"
   ]
  },
  {
   "cell_type": "code",
   "execution_count": 9,
   "metadata": {
    "collapsed": false
   },
   "outputs": [],
   "source": [
    "def createBootstrapDataAndGateset(seed, maxLengthList, gsGSTEstimate, gateStringList,\n",
    "        inputDataSet, outputFilename):\n",
    "    \n",
    "    gs_target = std1Q_XYI.gs_target\n",
    "    fiducials = std1Q_XYI.fiducials\n",
    "    germs = std1Q_XYI.germs\n",
    "\n",
    "    #Use GST estimate (previously computed) to create fake data                                                                                           \n",
    "    nSamplesList = [ inputDataSet[s].total() for s in gateStringList] # list of total counts                                                              \n",
    "    simDS = pygsti.construction.generate_fake_data(gsGSTEstimate, gateStringList, nSamplesList,\n",
    "                                        sampleError=\"binomial\", seed=seed)\n",
    "\n",
    "    #Run GST on fake data with target == GST estimate from before.                                                                                        \n",
    "    results = pygsti.do_long_sequence_gst(simDS, gsGSTEstimate,\n",
    "                                          fiducials, fiducials, germs, maxLengthList,\n",
    "                                          gaugeOptRatio=1e-3, constrainToTP=True,\n",
    "                                          objective='logl')\n",
    "\n",
    "    simDS.save(outputFilename + \".dataset\")\n",
    "    sampleGateset = results.gatesets['final estimate'] #GST's best estimate of the simulated data                                                             \n",
    "    pygsti.io.write_gateset(sampleGateset,outputFilename + \".gateset\")\n",
    "\n",
    "    \n",
    "def createBootstrapDataAndGatesets(nDatasets, datafile, logMaxL, outputPath):\n",
    "                                                                                                                                                      \n",
    "    maxLengthList = [0] + [2**i for i in xrange(logMaxL+1)]\n",
    "    inputDataSet = pygsti.io.load_dataset(datafile,cache=True)\n",
    "    \n",
    "    gs_target = std1Q_XYI.gs_target\n",
    "    fiducials = std1Q_XYI.fiducials\n",
    "    germs = std1Q_XYI.germs\n",
    "\n",
    "    #Run GST on data => GST estimate, then use estimate to create fake data                                                                               \n",
    "    rootEstimateFile = 'gateset_root'\n",
    "\n",
    "    print \"Starting GST Estimate for dataset\"\n",
    "    results = pygsti.do_long_sequence_gst(inputDataSet, gs_target,\n",
    "                                          fiducials, fiducials, germs, maxLengthList,\n",
    "                                          gaugeOptRatio=1e-4, constrainToTP=True,\n",
    "                                          objective='logl')\n",
    "    gsGSTEstimate = results.gatesets['final estimate'] #GST's best estimate given the original data                                               \n",
    "    gateStringList = results.gatestring_lists['final']\n",
    "    gsGSTEstimate.set_all_parameterizations(\"full\")\n",
    "\n",
    "    pygsti.io.write_gateset(gsGSTEstimate, rootEstimateFile, \"Root Gateset for Parameteric bootstrapping\")\n",
    "    print \"Finished GST Estimate for dataset => %s\" % rootEstimateFile\n",
    "\n",
    "    #Create bootstrapped datasets using consecutive seeds\n",
    "    for seed in range(nDatasets):\n",
    "        print \"Starting seed %d\" % seed\n",
    "        createBootstrapDataAndGateset(seed, maxLengthList, gsGSTEstimate,\n",
    "                gateStringList, inputDataSet, outputPath+'/gateset_parametric_logl_%d' % seed)\n"
   ]
  },
  {
   "cell_type": "code",
   "execution_count": null,
   "metadata": {
    "collapsed": true
   },
   "outputs": [],
   "source": [
    "outputpath = '../ComputedObjects/GST_Bootstrap-8192_10-20-16-usermade/'\n",
    "#Change this to ComputedObjects/GST_Bootstrap-8192_10-20-16/you want to overwrite precomputed bootstrapped gatesets.\n",
    "\n",
    "createBootstrapDatasets(100,\"../ExperimentalData/2015_03_30-GST_BB1_XYXY_8192_condensed.txt\",13,outputpath)"
   ]
  }
 ],
 "metadata": {
  "kernelspec": {
   "display_name": "Python 2",
   "language": "python",
   "name": "python2"
  },
  "language_info": {
   "codemirror_mode": {
    "name": "ipython",
    "version": 2
   },
   "file_extension": ".py",
   "mimetype": "text/x-python",
   "name": "python",
   "nbconvert_exporter": "python",
   "pygments_lexer": "ipython2",
   "version": "2.7.9"
  }
 },
 "nbformat": 4,
 "nbformat_minor": 0
}
