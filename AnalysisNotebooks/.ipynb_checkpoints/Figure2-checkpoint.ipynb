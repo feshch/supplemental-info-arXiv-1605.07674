{
 "cells": [
  {
   "cell_type": "code",
   "execution_count": 1,
   "metadata": {
    "collapsed": true
   },
   "outputs": [],
   "source": [
    "import pygsti\n",
    "from pygsti.construction import std1Q_XYI\n",
    "import pickle\n",
    "import sys"
   ]
  },
  {
   "cell_type": "code",
   "execution_count": 2,
   "metadata": {
    "collapsed": true
   },
   "outputs": [],
   "source": [
    "import numpy as np"
   ]
  },
  {
   "cell_type": "code",
   "execution_count": 3,
   "metadata": {
    "collapsed": true
   },
   "outputs": [],
   "source": [
    "from matplotlib import pyplot as plt\n",
    "%matplotlib inline"
   ]
  },
  {
   "cell_type": "code",
   "execution_count": 4,
   "metadata": {
    "collapsed": true
   },
   "outputs": [],
   "source": [
    "import time"
   ]
  },
  {
   "cell_type": "code",
   "execution_count": 5,
   "metadata": {
    "collapsed": true
   },
   "outputs": [],
   "source": [
    "resultsD = {}"
   ]
  },
  {
   "cell_type": "code",
   "execution_count": 6,
   "metadata": {
    "collapsed": true
   },
   "outputs": [],
   "source": [
    "#keyList = [('2014_04_17-compensatedTraining'),('2014_12_02-GSTCompensatedDrift_randomized_condensed'),\n",
    "#           ('2015_02_09-GSTCompensatedDrift_condensed'),('2015_03_02-GST_condensed'),('2015_03_19-GSTBest_condensed'),\n",
    "#           ('2015_03_30-GST_BB1_XYXY_8192_condensed')]\n",
    "\n",
    "keyList = [('2014_04_17-compensatedTraining'),('2014_12_02-GSTCompensatedDrift_randomized_condensed'),\n",
    "           ('2015_02_09-GSTCompensatedDrift_condensed'),('2015_03_02-GST_condensed'),\n",
    "           ('2015_03_30-GST_BB1_XYXY_8192_condensed')]"
   ]
  },
  {
   "cell_type": "code",
   "execution_count": 7,
   "metadata": {
    "collapsed": false
   },
   "outputs": [
    {
     "name": "stdout",
     "output_type": "stream",
     "text": [
      "      \n",
      "  --- Hessian Projector Optimization for gate CIs (L-BFGS-B) ---\n",
      "   27s           0.0045496430\n",
      "   33s           0.0044389138\n",
      "   38s           0.0044324476\n",
      "   43s           0.0044306115\n",
      "   48s           0.0044274146\n",
      "   58s           0.0044271006\n",
      "    The resulting min sqrt(sum(gateCIs**2)): 0.0044271\n",
      "      \n",
      "  --- Hessian Projector Optimization for gate CIs (L-BFGS-B) ---\n",
      "   89s           0.0017966968\n",
      "   94s           0.0016759680\n",
      "   99s           0.0016593725\n",
      "  104s           0.0016574935\n",
      "  110s           0.0016511530\n",
      "  115s           0.0016464139\n",
      "  120s           0.0016458400\n",
      "    The resulting min sqrt(sum(gateCIs**2)): 0.00164584\n",
      "      \n",
      "  --- Hessian Projector Optimization for gate CIs (L-BFGS-B) ---\n",
      "  281s           0.0008351644\n",
      "  287s           0.0005987608\n",
      "  292s           0.0005210765\n",
      "  297s           0.0005132201\n",
      "  302s           0.0005051279\n",
      "  308s           0.0004934090\n",
      "  313s           0.0004879295\n",
      "  319s           0.0004783499\n",
      "  324s           0.0004768382\n",
      "  330s           0.0004767424\n",
      "    The resulting min sqrt(sum(gateCIs**2)): 0.000476742\n",
      "      \n",
      "  --- Hessian Projector Optimization for gate CIs (L-BFGS-B) ---\n",
      "  411s           0.0010671498\n",
      "  416s           0.0006338283\n",
      "  421s           0.0004957651\n",
      "  426s           0.0004751483\n",
      "  431s           0.0004585520\n",
      "  436s           0.0004456412\n",
      "  441s           0.0004387335\n",
      "  447s           0.0004070697\n",
      "  452s           0.0003971311\n",
      "  462s           0.0003939710\n",
      "  467s           0.0003932590\n",
      "    The resulting min sqrt(sum(gateCIs**2)): 0.000393259\n",
      "      \n",
      "  --- Hessian Projector Optimization for gate CIs (L-BFGS-B) ---\n",
      " 1383s           0.0015804241\n",
      " 1388s           0.0008248586\n",
      " 1394s           0.0005372203\n",
      " 1409s           0.0004310554\n",
      " 1421s           0.0003874634\n",
      " 1427s           0.0003682805\n",
      " 1432s           0.0002769793\n",
      " 1438s           0.0001989765\n",
      " 1449s           0.0001697997\n",
      " 1459s           0.0001484974\n",
      " 1464s           0.0001462349\n",
      " 1470s           0.0001437155\n",
      " 1475s           0.0001405634\n",
      " 1480s           0.0001392263\n",
      " 1485s           0.0001373859\n",
      " 1490s           0.0001372365\n",
      "    The resulting min sqrt(sum(gateCIs**2)): 0.000137237\n"
     ]
    }
   ],
   "source": [
    "for key in keyList:\n",
    "    resultsD[key] = pickle.load(open('../ComputedObjects/'+key+'.pkl','r'))\n",
    "    resultsD[key].confidence_level = 95\n",
    "    resultsD[key].create_brief_report_pdf(confidenceLevel=95)"
   ]
  },
  {
   "cell_type": "code",
   "execution_count": 8,
   "metadata": {
    "collapsed": false,
    "scrolled": true
   },
   "outputs": [
    {
     "name": "stdout",
     "output_type": "stream",
     "text": [
      "2014_04_17-compensatedTraining\n",
      "2014_12_02-GSTCompensatedDrift_randomized_condensed\n",
      "2015_02_09-GSTCompensatedDrift_condensed\n",
      "2015_03_02-GST_condensed\n",
      "2015_03_30-GST_BB1_XYXY_8192_condensed\n",
      "Took 0.00187706947327  seconds to compute derived gate quantities.\n"
     ]
    }
   ],
   "source": [
    "#Compute (with error bars) the process infidelity and diamond norm\n",
    "#for each data set.  This may take some time, particularly for the last data set.\n",
    "derived_tablesD = {}\n",
    "start = time.time()\n",
    "for key in keyList:\n",
    "    print key\n",
    "    sys.stdout.flush()\n",
    "    derived_tablesD[key] = resultsD[key].tables['bestGatesetVsTargetTable']\n",
    "end = time.time()\n",
    "print \"Took\", end-start, \" seconds to compute derived gate quantities.\""
   ]
  },
  {
   "cell_type": "code",
   "execution_count": 9,
   "metadata": {
    "collapsed": false,
    "scrolled": true
   },
   "outputs": [
    {
     "name": "stdout",
     "output_type": "stream",
     "text": [
      "2014_04_17-compensatedTraining\n",
      "2014_12_02-GSTCompensatedDrift_randomized_condensed\n",
      "2015_02_09-GSTCompensatedDrift_condensed\n",
      "2015_03_02-GST_condensed\n",
      "2015_03_30-GST_BB1_XYXY_8192_condensed\n",
      "Took 824.939273119  seconds to compute log-likelihood tables.\n"
     ]
    }
   ],
   "source": [
    "#Compute the log-likelihood scores for each dataset,\n",
    "#and in turn the amount of Markovianity violation.\n",
    "#This too may take some time, particularly for the last data set.\n",
    "\n",
    "logL_tablesD = {}\n",
    "start = time.time()\n",
    "for key in keyList:\n",
    "    print key\n",
    "    sys.stdout.flush()\n",
    "    logL_tablesD[key] = resultsD[key].tables['logLProgressTable']\n",
    "end = time.time()\n",
    "print \"Took\", end-start, \" seconds to compute log-likelihood tables.\""
   ]
  },
  {
   "cell_type": "code",
   "execution_count": 10,
   "metadata": {
    "collapsed": true
   },
   "outputs": [],
   "source": [
    "InfidelityXList = []\n",
    "InfidelityErrorXList = []\n",
    "InfidelityYList = []\n",
    "InfidelityErrorYList = []\n",
    "InfidelityIList = []\n",
    "InfidelityErrorIList = []\n",
    "\n",
    "DiamondXList = []\n",
    "DiamondErrorXList = []\n",
    "DiamondYList = []\n",
    "DiamondErrorYList = []\n",
    "DiamondIList = []\n",
    "DiamondErrorIList = []\n",
    "\n",
    "sigmaList = []"
   ]
  },
  {
   "cell_type": "code",
   "execution_count": 11,
   "metadata": {
    "collapsed": false
   },
   "outputs": [],
   "source": [
    "for key in keyList:\n",
    "    InfidelityIList.append(derived_tablesD[key]['Gi']['Process|Infidelity'][0][0,0])\n",
    "    InfidelityErrorIList.append(derived_tablesD[key]['Gi']['Process|Infidelity'][1][0,0])\n",
    "    \n",
    "    InfidelityXList.append(derived_tablesD[key]['Gx']['Process|Infidelity'][0][0,0])\n",
    "    InfidelityErrorXList.append(derived_tablesD[key]['Gx']['Process|Infidelity'][1][0,0])\n",
    "\n",
    "    InfidelityYList.append(derived_tablesD[key]['Gy']['Process|Infidelity'][0][0,0])\n",
    "    InfidelityErrorYList.append(derived_tablesD[key]['Gy']['Process|Infidelity'][1][0,0])\n",
    "    \n",
    "    \n",
    "    DiamondIList.append(derived_tablesD[key]['Gi']['1/2 Diamond-Norm'][0]*2)\n",
    "    DiamondErrorIList.append(derived_tablesD[key]['Gi']['1/2 Diamond-Norm'][1])\n",
    "    \n",
    "    DiamondXList.append(derived_tablesD[key]['Gx']['1/2 Diamond-Norm'][0]*2)\n",
    "    DiamondErrorXList.append(derived_tablesD[key]['Gx']['1/2 Diamond-Norm'][1])\n",
    "\n",
    "    DiamondYList.append(derived_tablesD[key]['Gy']['1/2 Diamond-Norm'][0]*2)\n",
    "    DiamondErrorYList.append(derived_tablesD[key]['Gy']['1/2 Diamond-Norm'][1])\n",
    "\n",
    "#    Lkey = logL_tablesD[key].keys()[-1]\n",
    "#    print key, Lkey\n",
    "#    TwoDeltaLogL_less_k = logL_tablesD[key][Lkey]['2*Delta(log L)-k']\n",
    "#    root_two_k = logL_tablesD[key][Lkey]['sqrt{2k}']\n",
    "#    sigmaList.append(TwoDeltaLogL_less_k / root_two_k)"
   ]
  },
  {
   "cell_type": "code",
   "execution_count": 19,
   "metadata": {
    "collapsed": false
   },
   "outputs": [
    {
     "name": "stdout",
     "output_type": "stream",
     "text": [
      "2014_04_17-compensatedTraining 256\n",
      "2014_12_02-GSTCompensatedDrift_randomized_condensed 512\n",
      "2015_02_09-GSTCompensatedDrift_condensed 512\n",
      "2015_03_02-GST_condensed 2048\n",
      "2015_03_30-GST_BB1_XYXY_8192_condensed 8192\n"
     ]
    }
   ],
   "source": [
    "for key in keyList:\n",
    "    Lkey = logL_tablesD[key].keys()[-1]\n",
    "    print key, Lkey\n",
    "    TwoDeltaLogL_less_k = logL_tablesD[key][Lkey]['2*Delta(log L)-k']\n",
    "    root_two_k = logL_tablesD[key][Lkey]['sqrt{2k}']\n",
    "    sigmaList.append(TwoDeltaLogL_less_k / root_two_k)"
   ]
  },
  {
   "cell_type": "code",
   "execution_count": 12,
   "metadata": {
    "collapsed": true
   },
   "outputs": [],
   "source": [
    "#Actual plots for paper made with DataGraph."
   ]
  },
  {
   "cell_type": "code",
   "execution_count": 29,
   "metadata": {
    "collapsed": false
   },
   "outputs": [
    {
     "data": {
      "image/png": "[encoded data removed]",
      "text/plain": [
       "<matplotlib.figure.Figure at 0x118203390>"
      ]
     },
     "metadata": {},
     "output_type": "display_data"
    }
   ],
   "source": [
    "plt.errorbar(range(5),InfidelityIList,InfidelityErrorIList,linestyle='-',marker='^',label='Gi',color='k')#,'-o',label='Gi')\n",
    "plt.errorbar(range(5),InfidelityXList,InfidelityErrorXList,linestyle='-',marker='s',label='Gx',color='r')\n",
    "plt.errorbar(range(5),InfidelityYList,InfidelityErrorYList,linestyle='-',marker='o',label='Gy',color='b')\n",
    "plt.yscale('log')\n",
    "plt.ylabel('Infidelity')\n",
    "plt.xlabel('Date')\n",
    "plt.xticks(range(5),['4/17/14','12/2/14','2/9/15','3/2/15','3/30/15'])\n",
    "plt.legend()\n",
    "plt.savefig('../Figures/Fig2a.pdf')"
   ]
  },
  {
   "cell_type": "code",
   "execution_count": 30,
   "metadata": {
    "collapsed": false
   },
   "outputs": [
    {
     "data": {
      "image/png": "[encoded data removed]",
      "text/plain": [
       "<matplotlib.figure.Figure at 0x118277e50>"
      ]
     },
     "metadata": {},
     "output_type": "display_data"
    }
   ],
   "source": [
    "plt.errorbar(range(5),DiamondIList,np.array(DiamondErrorIList),linestyle='-',marker='^',label='Gi',color='k')#,'-o',label='Gi')\n",
    "plt.errorbar(range(5),DiamondXList,np.array(DiamondErrorXList),linestyle='-',marker='s',label='Gx',color='r')\n",
    "plt.errorbar(range(5),DiamondYList,np.array(DiamondErrorYList),linestyle='-',marker='o',label='Gy',color='b')\n",
    "plt.axhline(6.7e-4,linestyle='--',color='purple')#Fault-tolerance threshold \n",
    "plt.yscale('log')\n",
    "plt.ylabel(r'$||\\cdot||_\\diamond$')\n",
    "plt.xlabel('Date')\n",
    "plt.xlim(0,6)\n",
    "plt.xticks(range(5),['4/17/14','12/2/14','2/9/15','3/2/15','3/30/15'])\n",
    "plt.legend()\n",
    "plt.savefig('../Figures/Fig2b.pdf')"
   ]
  },
  {
   "cell_type": "code",
   "execution_count": 31,
   "metadata": {
    "collapsed": false
   },
   "outputs": [
    {
     "data": {
      "image/png": "[encoded data removed]",
      "text/plain": [
       "<matplotlib.figure.Figure at 0x10ffcc610>"
      ]
     },
     "metadata": {},
     "output_type": "display_data"
    }
   ],
   "source": [
    "plt.errorbar(range(5),sigmaList,linestyle='-',marker='d',color='k')#,'-o',label='Gi')\n",
    "plt.yscale('log')\n",
    "plt.ylabel('Markovianity violation (sigma)')\n",
    "plt.xlabel('Date')\n",
    "plt.xticks(range(5),['4/17/14','12/2/14','2/9/15','3/2/15','3/30/15'])\n",
    "#plt.legend()\n",
    "plt.savefig('../Figures/Fig2c.pdf')"
   ]
  },
  {
   "cell_type": "code",
   "execution_count": 32,
   "metadata": {
    "collapsed": false
   },
   "outputs": [
    {
     "name": "stdout",
     "output_type": "stream",
     "text": [
      "Date\t\tI Infidelity\n",
      "04/17/14 \t0.00235904616961 +/- 7.08434994366e-05\n",
      "12/02/14 \t0.00283311219622 +/- 0.000100672565462\n",
      "02/09/15 \t0.000189187124982 +/- 1.78580096429e-05\n",
      "03/02/15 \t0.000344603473273 +/- 1.44679696731e-05\n",
      "03/30/15 \t6.94577305035e-05 +/- 6.00607564815e-06\n"
     ]
    }
   ],
   "source": [
    "dates = ['04/17/14','12/02/14','02/09/15','03/02/15','03/30/15']\n",
    "print \"Date\\t\\tI Infidelity\"\n",
    "for num, key in enumerate(keyList):\n",
    "    print dates[num], '\\t', str(InfidelityIList[num])+' +/- '+str(InfidelityErrorIList[num])"
   ]
  },
  {
   "cell_type": "code",
   "execution_count": 33,
   "metadata": {
    "collapsed": false
   },
   "outputs": [
    {
     "name": "stdout",
     "output_type": "stream",
     "text": [
      "Date\t\tX Infidelity\n",
      "04/17/14 \t0.000967048359611 +/- 2.68999152962e-05\n",
      "12/02/14 \t0.000316307966897 +/- 3.26634495877e-05\n",
      "02/09/15 \t3.85947572773e-05 +/- 2.19699865329e-05\n",
      "03/02/15 \t4.00900060609e-05 +/- 6.41387603109e-06\n",
      "03/30/15 \t6.13580469073e-05 +/- 7.41229053333e-06\n"
     ]
    }
   ],
   "source": [
    "print \"Date\\t\\tX Infidelity\"\n",
    "for num, key in enumerate(keyList):\n",
    "    print dates[num], '\\t', str(InfidelityXList[num])+' +/- '+str(InfidelityErrorXList[num])"
   ]
  },
  {
   "cell_type": "code",
   "execution_count": 34,
   "metadata": {
    "collapsed": false
   },
   "outputs": [
    {
     "name": "stdout",
     "output_type": "stream",
     "text": [
      "Date\t\tY Infidelity\n",
      "04/17/14 \t0.000995374624866 +/- 2.70205177166e-05\n",
      "12/02/14 \t6.29414741184e-05 +/- 1.84729796057e-05\n",
      "02/09/15 \t7.80371904097e-05 +/- 2.02891175807e-05\n",
      "03/02/15 \t6.54339413038e-05 +/- 7.36208199669e-06\n",
      "03/30/15 \t7.14964849287e-05 +/- 6.93010111466e-06\n"
     ]
    }
   ],
   "source": [
    "print \"Date\\t\\tY Infidelity\"\n",
    "for num, key in enumerate(keyList):\n",
    "    print dates[num], '\\t', str(InfidelityYList[num])+' +/- '+str(InfidelityErrorYList[num])"
   ]
  },
  {
   "cell_type": "code",
   "execution_count": 35,
   "metadata": {
    "collapsed": false
   },
   "outputs": [
    {
     "name": "stdout",
     "output_type": "stream",
     "text": [
      "Date\t\tI Diamond distance\n",
      "04/17/14 \t0.0213395312864 +/- 0.000179872755853\n",
      "12/02/14 \t0.0382191097955 +/- 0.000383618041942\n",
      "02/09/15 \t0.00560400980556 +/- 5.49673363235e-05\n",
      "03/02/15 \t0.00565163009525 +/- 6.6573228426e-05\n",
      "03/30/15 \t0.000158328700193 +/- 7.32308768217e-06\n"
     ]
    }
   ],
   "source": [
    "print \"Date\\t\\tI Diamond distance\"\n",
    "for num, key in enumerate(keyList):\n",
    "    print dates[num], '\\t', str(DiamondIList[num])+' +/- '+str(DiamondErrorIList[num])"
   ]
  },
  {
   "cell_type": "code",
   "execution_count": 36,
   "metadata": {
    "collapsed": false
   },
   "outputs": [
    {
     "name": "stdout",
     "output_type": "stream",
     "text": [
      "Date\t\tX Diamond distance\n",
      "04/17/14 \t0.0108557664826 +/- 0.000626618969467\n",
      "12/02/14 \t0.00330340421392 +/- 8.55657419583e-05\n",
      "02/09/15 \t0.00415517279117 +/- 5.25567506621e-05\n",
      "03/02/15 \t0.000169303455176 +/- 2.38682955401e-05\n",
      "03/30/15 \t0.000139535374348 +/- 1.0978081762e-05\n"
     ]
    }
   ],
   "source": [
    "print \"Date\\t\\tX Diamond distance\"\n",
    "for num, key in enumerate(keyList):\n",
    "    print dates[num], '\\t', str(DiamondXList[num])+' +/- '+str(DiamondErrorXList[num])"
   ]
  },
  {
   "cell_type": "code",
   "execution_count": 37,
   "metadata": {
    "collapsed": false
   },
   "outputs": [
    {
     "name": "stdout",
     "output_type": "stream",
     "text": [
      "Date\t\tY Diamond distance\n",
      "04/17/14 \t0.0105176474733 +/- 0.000606627864922\n",
      "12/02/14 \t0.00397280905142 +/- 7.44619239699e-05\n",
      "02/09/15 \t0.00435206341209 +/- 4.74102590283e-05\n",
      "03/02/15 \t0.000185161007714 +/- 1.75768395025e-05\n",
      "03/30/15 \t0.000161867469082 +/- 1.31712254475e-05\n"
     ]
    }
   ],
   "source": [
    "print \"Date\\t\\tY Diamond distance\"\n",
    "for num, key in enumerate(keyList):\n",
    "    print dates[num], '\\t', str(DiamondYList[num])+' +/- '+str(DiamondErrorYList[num])"
   ]
  },
  {
   "cell_type": "code",
   "execution_count": 38,
   "metadata": {
    "collapsed": false
   },
   "outputs": [
    {
     "name": "stdout",
     "output_type": "stream",
     "text": [
      "Date\t\tMarkovianity violation (number of sigma)\n",
      "04/17/14 \t164.483086382\n",
      "12/02/14 \t268.566323887\n",
      "02/09/15 \t14.1366173784\n",
      "03/02/15 \t33.6610986723\n",
      "03/30/15 \t4.30760209336\n"
     ]
    }
   ],
   "source": [
    "print \"Date\\t\\tMarkovianity violation (number of sigma)\"\n",
    "for num, key in enumerate(keyList):\n",
    "    print dates[num], '\\t', sigmaList[num]"
   ]
  }
 ],
 "metadata": {
  "kernelspec": {
   "display_name": "Python 2",
   "language": "python",
   "name": "python2"
  },
  "language_info": {
   "codemirror_mode": {
    "name": "ipython",
    "version": 2
   },
   "file_extension": ".py",
   "mimetype": "text/x-python",
   "name": "python",
   "nbconvert_exporter": "python",
   "pygments_lexer": "ipython2",
   "version": "2.7.9"
  }
 },
 "nbformat": 4,
 "nbformat_minor": 0
}
