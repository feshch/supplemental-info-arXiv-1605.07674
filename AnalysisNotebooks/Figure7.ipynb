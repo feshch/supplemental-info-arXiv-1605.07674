{
 "cells": [
  {
   "cell_type": "code",
   "execution_count": 1,
   "metadata": {
    "collapsed": true
   },
   "outputs": [],
   "source": [
    "import pygsti\n",
    "from matplotlib import pyplot as plt\n",
    "%matplotlib inline\n",
    "import numpy as np\n",
    "from pygsti.algorithms import germselection\n",
    "from pygsti.construction import std1Q_XYI"
   ]
  },
  {
   "cell_type": "code",
   "execution_count": 2,
   "metadata": {
    "collapsed": true
   },
   "outputs": [],
   "source": [
    "gs_target = std1Q_XYI.gs_target\n",
    "gs_target.set_all_parameterizations('TP')"
   ]
  },
  {
   "cell_type": "code",
   "execution_count": 3,
   "metadata": {
    "collapsed": true
   },
   "outputs": [],
   "source": [
    "gs_true = gs_target.rotate(max_rotate=.1,seed=0)"
   ]
  },
  {
   "cell_type": "code",
   "execution_count": 4,
   "metadata": {
    "collapsed": false
   },
   "outputs": [
    {
     "name": "stdout",
     "output_type": "stream",
     "text": [
      "[GateString(Gi), GateString(Gx), GateString(Gy), GateString(GxGy), GateString(GiGx), GateString(GxGyGi), GateString(GxGyGy), GateString(GxGyGiGx), GateString(GyGyGiGi), GateString(GxGyGiGxGy)]\n"
     ]
    }
   ],
   "source": [
    "bad_germ_list = pygsti.construction.list_all_gatestrings_onelen(std1Q_XYI.gates,1)+\\\n",
    "pygsti.construction.list_random_gatestrings_onelen(std1Q_XYI.gates,2,2,3)+\\\n",
    "pygsti.construction.list_random_gatestrings_onelen(std1Q_XYI.gates,3,2,3)+\\\n",
    "pygsti.construction.list_random_gatestrings_onelen(std1Q_XYI.gates,4,2,3)+\\\n",
    "pygsti.construction.list_random_gatestrings_onelen(std1Q_XYI.gates,5,1,3)\n",
    "\n",
    "print bad_germ_list"
   ]
  },
  {
   "cell_type": "code",
   "execution_count": 5,
   "metadata": {
    "collapsed": false
   },
   "outputs": [],
   "source": [
    "bad_germ_list = pygsti.construction.list_all_gatestrings_onelen(std1Q_XYI.gates,1)"
   ]
  },
  {
   "cell_type": "code",
   "execution_count": 6,
   "metadata": {
    "collapsed": false
   },
   "outputs": [
    {
     "name": "stdout",
     "output_type": "stream",
     "text": [
      "3\n",
      "11\n"
     ]
    }
   ],
   "source": [
    "print len(bad_germ_list)\n",
    "print len(std1Q_XYI.germs)"
   ]
  },
  {
   "cell_type": "code",
   "execution_count": 7,
   "metadata": {
    "collapsed": true
   },
   "outputs": [],
   "source": [
    "goodSVs = germselection.test_germ_list_infl(gs_true,std1Q_XYI.germs,returnSpectrum=True,check=True)[1]\n",
    "badSVs = germselection.test_germ_list_infl(gs_true,bad_germ_list,returnSpectrum=True,check=True)[1]"
   ]
  },
  {
   "cell_type": "code",
   "execution_count": 8,
   "metadata": {
    "collapsed": true
   },
   "outputs": [],
   "source": [
    "def removeSPAMVectors(gateset):\n",
    "    reducedGateset = gateset.copy()\n",
    "    for prepLabel in reducedGateset.preps:\n",
    "        del reducedGateset.preps[prepLabel]\n",
    "    for effectLabel in reducedGateset.effects:\n",
    "        del reducedGateset.effects[effectLabel]\n",
    "    return reducedGateset"
   ]
  },
  {
   "cell_type": "code",
   "execution_count": 9,
   "metadata": {
    "collapsed": false
   },
   "outputs": [
    {
     "data": {
      "text/plain": [
       "14"
      ]
     },
     "execution_count": 9,
     "metadata": {},
     "output_type": "execute_result"
    }
   ],
   "source": [
    "#Not counting SPAM parameters, how many gauge parameters are there in the gate set?\n",
    "removeSPAMVectors(gs_true).num_gauge_params()"
   ]
  },
  {
   "cell_type": "code",
   "execution_count": 10,
   "metadata": {
    "collapsed": true
   },
   "outputs": [],
   "source": [
    "sortedGoodSVs = np.sort(np.abs(goodSVs))\n",
    "sortedBadSVs = np.sort(np.abs(badSVs))"
   ]
  },
  {
   "cell_type": "code",
   "execution_count": 11,
   "metadata": {
    "collapsed": false
   },
   "outputs": [
    {
     "data": {
      "image/png": "[encoded data removed]",
      "text/plain": [
       "<matplotlib.figure.Figure at 0x7fc59fbde750>"
      ]
     },
     "metadata": {},
     "output_type": "display_data"
    }
   ],
   "source": [
    "plt.semilogy(sortedGoodSVs,'v')\n",
    "plt.semilogy(sortedBadSVs,'^')\n",
    "plt.xlabel('Singular value index')\n",
    "plt.ylabel('Singular value')\n",
    "plt.axvline(13.5,linestyle='--')\n",
    "plt.savefig('../Figures/Fig7.pdf')"
   ]
  },
  {
   "cell_type": "code",
   "execution_count": 12,
   "metadata": {
    "collapsed": false
   },
   "outputs": [
    {
     "data": {
      "text/plain": [
       "48"
      ]
     },
     "execution_count": 12,
     "metadata": {},
     "output_type": "execute_result"
    }
   ],
   "source": [
    "len(np.sort(np.abs(goodSVs)))"
   ]
  },
  {
   "cell_type": "code",
   "execution_count": 13,
   "metadata": {
    "collapsed": false
   },
   "outputs": [
    {
     "name": "stdout",
     "output_type": "stream",
     "text": [
      "7.9276108984e-18 4.55566786555e-20\n",
      "4.66183348663e-17 2.15011278024e-19\n",
      "7.85388404903e-17 4.54037626124e-19\n",
      "9.85152059922e-17 8.48854442307e-19\n",
      "1.56377035155e-16 2.44810831806e-18\n",
      "1.77325094035e-16 2.97324639786e-18\n",
      "2.10317847821e-16 3.18020697919e-18\n",
      "2.2612934433e-16 4.8652352709e-18\n",
      "3.4196973675e-16 9.45061301093e-18\n",
      "4.01366710426e-16 1.05333750906e-17\n",
      "4.36965210964e-16 1.26291934138e-17\n",
      "4.61089113308e-16 4.14407699658e-17\n",
      "8.05974547803e-16 4.16357927889e-17\n",
      "8.15012305723e-16 4.3702958349e-17\n",
      "0.0385827366741 4.759047913e-17\n",
      "0.0719302027777 5.08204064145e-17\n",
      "0.145673794343 5.74231246981e-17\n",
      "0.161270259533 7.77839690986e-17\n",
      "0.191925213841 9.27173398578e-17\n",
      "0.191925213841 1.00073867807e-16\n",
      "0.191925213841 1.60579774322e-16\n",
      "0.215627147503 1.94570020759e-16\n",
      "0.338312764841 2.11654628041e-16\n",
      "0.338312764841 2.22191399061e-16\n",
      "0.338312764841 2.24716887638e-16\n",
      "0.533414006663 2.56464550514e-16\n",
      "0.561767134379 3.15441446754e-16\n",
      "0.561767134379 3.26593770202e-16\n",
      "0.561767134379 3.59030985918e-16\n",
      "1.01888218592 4.06084632584e-16\n",
      "1.17361111111 1.0\n",
      "1.17361111111 1.0\n",
      "1.17884399187 1.0\n",
      "1.23558266538 1.0\n",
      "1.23558266538 1.0\n",
      "1.23558266538 1.0\n",
      "1.2481553135 1.0\n",
      "1.31415291899 1.0\n",
      "1.31987452534 1.0\n",
      "1.31987452534 1.0\n",
      "1.31987452534 1.0\n",
      "1.68050716339 1.0\n",
      "1.68050716339 1.0\n",
      "2.27152117756 1.0\n",
      "2.27152117756 1.0\n",
      "2.27152117756 1.0\n",
      "3.67365950328 1.0\n",
      "3.67365950328 1.0\n"
     ]
    }
   ],
   "source": [
    "for i in xrange(48):\n",
    "    print sortedGoodSVs[i], sortedBadSVs[i]"
   ]
  },
  {
   "cell_type": "code",
   "execution_count": null,
   "metadata": {
    "collapsed": true
   },
   "outputs": [],
   "source": []
  }
 ],
 "metadata": {
  "kernelspec": {
   "display_name": "Python 2",
   "language": "python",
   "name": "python2"
  },
  "language_info": {
   "codemirror_mode": {
    "name": "ipython",
    "version": 2
   },
   "file_extension": ".py",
   "mimetype": "text/x-python",
   "name": "python",
   "nbconvert_exporter": "python",
   "pygments_lexer": "ipython2",
   "version": "2.7.12"
  }
 },
 "nbformat": 4,
 "nbformat_minor": 0
}
