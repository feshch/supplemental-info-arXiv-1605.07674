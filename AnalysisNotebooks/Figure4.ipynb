{
 "cells": [
  {
   "cell_type": "code",
   "execution_count": 1,
   "metadata": {
    "collapsed": false
   },
   "outputs": [],
   "source": [
    "import pygsti\n",
    "from pygsti.construction import std1Q_XYI\n",
    "import matplotlib.pyplot as plt\n",
    "import pygsti.report.plotting as pplt\n",
    "#%matplotlib inline"
   ]
  },
  {
   "cell_type": "code",
   "execution_count": 2,
   "metadata": {
    "collapsed": true
   },
   "outputs": [],
   "source": [
    "import time"
   ]
  },
  {
   "cell_type": "code",
   "execution_count": 3,
   "metadata": {
    "collapsed": true
   },
   "outputs": [],
   "source": [
    "gs_target = std1Q_XYI.gs_target\n",
    "gs_target.set_all_parameterizations('TP')"
   ]
  },
  {
   "cell_type": "code",
   "execution_count": 4,
   "metadata": {
    "collapsed": true
   },
   "outputs": [],
   "source": [
    "specs = pygsti.construction.build_spam_specs(fiducialGateStrings=std1Q_XYI.fiducials)\n",
    "strs = pygsti.construction.get_spam_strs(specs)\n"
   ]
  },
  {
   "cell_type": "code",
   "execution_count": 5,
   "metadata": {
    "collapsed": false
   },
   "outputs": [],
   "source": [
    "gsMarkov = gs_target.rotate(max_rotate=0.01,seed=0)"
   ]
  },
  {
   "cell_type": "code",
   "execution_count": 6,
   "metadata": {
    "collapsed": false
   },
   "outputs": [],
   "source": [
    "maxLengths1024 = [0,1,2,4,8,16,32,64,128,256,512,1024]\n",
    "\n",
    "lsgstList1024 = pygsti.construction.make_lsgst_lists(['Gx','Gy','Gi'],std1Q_XYI.fiducials,std1Q_XYI.fiducials,std1Q_XYI.germs,maxLengths1024)\n"
   ]
  },
  {
   "cell_type": "code",
   "execution_count": 7,
   "metadata": {
    "collapsed": true
   },
   "outputs": [],
   "source": [
    "dsMarkov = pygsti.construction.datasetconstruction.generate_fake_data(gsMarkov,lsgstList1024[-1],50,sampleError='binomial',seed=0)"
   ]
  },
  {
   "cell_type": "code",
   "execution_count": 8,
   "metadata": {
    "collapsed": false
   },
   "outputs": [
    {
     "name": "stdout",
     "output_type": "stream",
     "text": [
      "Loading ../ExperimentalData/2015_03_02-GST_condensed.txt: 100%\n"
     ]
    }
   ],
   "source": [
    "dsNonMarkov_03_02 = pygsti.io.load_dataset('../ExperimentalData/2015_03_02-GST_condensed.txt')"
   ]
  },
  {
   "cell_type": "code",
   "execution_count": 9,
   "metadata": {
    "collapsed": false
   },
   "outputs": [
    {
     "name": "stdout",
     "output_type": "stream",
     "text": [
      "Loading ../ExperimentalData/2015_03_30-GST_BB1_XYXY_8192_condensed.txt: 100%\n"
     ]
    }
   ],
   "source": [
    "dsNonMarkov_03_30 = pygsti.io.load_dataset('../ExperimentalData/2015_03_30-GST_BB1_XYXY_8192_condensed.txt')"
   ]
  },
  {
   "cell_type": "code",
   "execution_count": 10,
   "metadata": {
    "collapsed": false,
    "scrolled": true
   },
   "outputs": [
    {
     "name": "stderr",
     "output_type": "stream",
     "text": [
      "/home/kmrudin/pyGSTi/packages/pygsti/drivers/longsequence.py:219: UserWarning: 'verbosity' as an advanced option is deprecated. Please use the 'verbosity' argument directly.\n",
      "  \" Please use the 'verbosity' argument directly.\")\n"
     ]
    },
    {
     "name": "stdout",
     "output_type": "stream",
     "text": [
      "--- LGST ---\n",
      "  Singular values of I_tilde (truncating to first 4 of 6) = \n",
      "  4.24417577868\n",
      "  1.54736627886\n",
      "  1.438188779\n",
      "  1.31813769921\n",
      "  0.0692411473946\n",
      "  0.0190069469912\n",
      "  \n",
      "  Singular values of target I_tilde (truncating to first 4 of 6) = \n",
      "  4.24264068712\n",
      "  1.41421356237\n",
      "  1.41421356237\n",
      "  1.41421356237\n",
      "  3.03274435922e-16\n",
      "  1.52179543682e-16\n",
      "  \n",
      "DEBUG: optimized gate to min frobenius distance 0.00121533\n",
      "DEBUG: optimized gate to min frobenius distance 0.000862605\n",
      "DEBUG: optimized gate to min frobenius distance 0.00144547\n",
      "DEBUG: optimized vector to min frobenius distance 0.000102123\n",
      "--- Iterative MLGST: Iter 01 of 12  92 gate strings ---: \n",
      "  --- Minimum Chi^2 GST ---\n",
      "  Created evaluation tree with 1 subtrees.  Will divide 1 procs into 1 (subtree-processing)\n",
      "   groups of ~1 procs each, to distribute over 43 params (taken as 1 param groups of ~43 params).\n",
      "  Sum of Chi^2 = 40.7037 (92 data params - 31 model params = expected mean of 61; p-value = 0.97887)\n",
      "  Completed in 0.2s\n",
      "  2*Delta(log(L)) = 42.7356\n",
      "  Iteration 1 took 0.2s\n",
      "  \n",
      "--- Iterative MLGST: Iter 02 of 12  92 gate strings ---: \n",
      "  --- Minimum Chi^2 GST ---\n",
      "  Created evaluation tree with 1 subtrees.  Will divide 1 procs into 1 (subtree-processing)\n",
      "   groups of ~1 procs each, to distribute over 43 params (taken as 1 param groups of ~43 params).\n",
      "  Sum of Chi^2 = 40.7037 (92 data params - 31 model params = expected mean of 61; p-value = 0.97887)\n",
      "  Completed in 0.0s\n",
      "  2*Delta(log(L)) = 42.7356\n",
      "  Iteration 2 took 0.1s\n",
      "  \n",
      "--- Iterative MLGST: Iter 03 of 12  168 gate strings ---: \n",
      "  --- Minimum Chi^2 GST ---\n",
      "  Created evaluation tree with 1 subtrees.  Will divide 1 procs into 1 (subtree-processing)\n",
      "   groups of ~1 procs each, to distribute over 43 params (taken as 1 param groups of ~43 params).\n",
      "  Sum of Chi^2 = 103.65 (168 data params - 31 model params = expected mean of 137; p-value = 0.984811)\n",
      "  Completed in 0.3s\n",
      "  2*Delta(log(L)) = 107.418\n",
      "  Iteration 3 took 0.4s\n",
      "  \n",
      "--- Iterative MLGST: Iter 04 of 12  441 gate strings ---: \n",
      "  --- Minimum Chi^2 GST ---\n",
      "  Created evaluation tree with 1 subtrees.  Will divide 1 procs into 1 (subtree-processing)\n",
      "   groups of ~1 procs each, to distribute over 43 params (taken as 1 param groups of ~43 params).\n",
      "  Sum of Chi^2 = 301.892 (441 data params - 31 model params = expected mean of 410; p-value = 0.999983)\n",
      "  Completed in 0.6s\n",
      "  2*Delta(log(L)) = 309.695\n",
      "  Iteration 4 took 0.7s\n",
      "  \n",
      "--- Iterative MLGST: Iter 05 of 12  817 gate strings ---: \n",
      "  --- Minimum Chi^2 GST ---\n",
      "  Created evaluation tree with 1 subtrees.  Will divide 1 procs into 1 (subtree-processing)\n",
      "   groups of ~1 procs each, to distribute over 43 params (taken as 1 param groups of ~43 params).\n",
      "  Sum of Chi^2 = 616.848 (817 data params - 31 model params = expected mean of 786; p-value = 0.999998)\n",
      "  Completed in 1.4s\n",
      "  2*Delta(log(L)) = 637.263\n",
      "  Iteration 5 took 1.5s\n",
      "  \n",
      "--- Iterative MLGST: Iter 06 of 12  1201 gate strings ---: \n",
      "  --- Minimum Chi^2 GST ---\n",
      "  Created evaluation tree with 1 subtrees.  Will divide 1 procs into 1 (subtree-processing)\n",
      "   groups of ~1 procs each, to distribute over 43 params (taken as 1 param groups of ~43 params).\n",
      "  Sum of Chi^2 = 943.603 (1201 data params - 31 model params = expected mean of 1170; p-value = 1)\n",
      "  Completed in 2.0s\n",
      "  2*Delta(log(L)) = 993.646\n",
      "  Iteration 6 took 2.1s\n",
      "  \n",
      "--- Iterative MLGST: Iter 07 of 12  1585 gate strings ---: \n",
      "  --- Minimum Chi^2 GST ---\n",
      "  Created evaluation tree with 1 subtrees.  Will divide 1 procs into 1 (subtree-processing)\n",
      "   groups of ~1 procs each, to distribute over 43 params (taken as 1 param groups of ~43 params).\n",
      "  Sum of Chi^2 = 1314.7 (1585 data params - 31 model params = expected mean of 1554; p-value = 0.999997)\n",
      "  Completed in 2.9s\n",
      "  2*Delta(log(L)) = 1411.76\n",
      "  Iteration 7 took 3.0s\n",
      "  \n",
      "--- Iterative MLGST: Iter 08 of 12  1969 gate strings ---: \n",
      "  --- Minimum Chi^2 GST ---\n",
      "  Created evaluation tree with 1 subtrees.  Will divide 1 procs into 1 (subtree-processing)\n",
      "   groups of ~1 procs each, to distribute over 43 params (taken as 1 param groups of ~43 params).\n",
      "  Sum of Chi^2 = 1695.88 (1969 data params - 31 model params = expected mean of 1938; p-value = 0.999975)\n",
      "  Completed in 2.9s\n",
      "  2*Delta(log(L)) = 1824.2\n",
      "  Iteration 8 took 3.0s\n",
      "  \n",
      "--- Iterative MLGST: Iter 09 of 12  2353 gate strings ---: \n",
      "  --- Minimum Chi^2 GST ---\n",
      "  Created evaluation tree with 1 subtrees.  Will divide 1 procs into 1 (subtree-processing)\n",
      "   groups of ~1 procs each, to distribute over 43 params (taken as 1 param groups of ~43 params).\n",
      "  Sum of Chi^2 = 2064.32 (2353 data params - 31 model params = expected mean of 2322; p-value = 0.999956)\n",
      "  Completed in 4.9s\n",
      "  2*Delta(log(L)) = 2214.71\n",
      "  Iteration 9 took 5.1s\n",
      "  \n",
      "--- Iterative MLGST: Iter 10 of 12  2737 gate strings ---: \n",
      "  --- Minimum Chi^2 GST ---\n",
      "  Created evaluation tree with 1 subtrees.  Will divide 1 procs into 1 (subtree-processing)\n",
      "   groups of ~1 procs each, to distribute over 43 params (taken as 1 param groups of ~43 params).\n",
      "  Sum of Chi^2 = 2399.22 (2737 data params - 31 model params = expected mean of 2706; p-value = 0.999993)\n",
      "  Completed in 6.3s\n",
      "  2*Delta(log(L)) = 2571.96\n",
      "  Iteration 10 took 6.5s\n",
      "  \n",
      "--- Iterative MLGST: Iter 11 of 12  3121 gate strings ---: \n",
      "  --- Minimum Chi^2 GST ---\n",
      "  Created evaluation tree with 1 subtrees.  Will divide 1 procs into 1 (subtree-processing)\n",
      "   groups of ~1 procs each, to distribute over 43 params (taken as 1 param groups of ~43 params).\n",
      "  Sum of Chi^2 = 2779.37 (3121 data params - 31 model params = expected mean of 3090; p-value = 0.999978)\n",
      "  Completed in 10.6s\n",
      "  2*Delta(log(L)) = 2981.39\n",
      "  Iteration 11 took 11.3s\n",
      "  \n",
      "--- Iterative MLGST: Iter 12 of 12  3505 gate strings ---: \n",
      "  --- Minimum Chi^2 GST ---\n",
      "  Created evaluation tree with 1 subtrees.  Will divide 1 procs into 1 (subtree-processing)\n",
      "   groups of ~1 procs each, to distribute over 43 params (taken as 1 param groups of ~43 params).\n",
      "  Sum of Chi^2 = 3180.62 (3505 data params - 31 model params = expected mean of 3474; p-value = 0.99985)\n",
      "  Completed in 21.8s\n",
      "  2*Delta(log(L)) = 3410.03\n",
      "  Iteration 12 took 24.3s\n",
      "  \n",
      "  Switching to ML objective (last iteration)\n",
      "  --- MLGST ---\n",
      "  Created evaluation tree with 1 subtrees.  Will divide 1 procs into 1 (subtree-processing)\n",
      "   groups of ~1 procs each, to distribute over 43 params (taken as 1 param groups of ~43 params).\n",
      "    Maximum log(L) = 1628.99 below upper bound of -258213\n",
      "      2*Delta(log(L)) = 3257.97 (3505 data params - 31 model params = expected mean of 3474; p-value = 0.995847)\n",
      "    Completed in 21.4s\n",
      "  2*Delta(log(L)) = 3257.97\n",
      "  Final MLGST took 21.4s\n",
      "  \n",
      "Iterative MLGST Total Time: 79.5s\n"
     ]
    }
   ],
   "source": [
    "resultsMarkov = pygsti.do_long_sequence_gst(dsMarkov,gs_target,std1Q_XYI.fiducials,std1Q_XYI.fiducials,std1Q_XYI.germs,maxLengths1024,advancedOptions={'verbosity':2})"
   ]
  },
  {
   "cell_type": "code",
   "execution_count": 11,
   "metadata": {
    "collapsed": false,
    "scrolled": true
   },
   "outputs": [
    {
     "name": "stdout",
     "output_type": "stream",
     "text": [
      "--- LGST ---\n",
      "  Singular values of I_tilde (truncating to first 4 of 6) = \n",
      "  4.24355905725\n",
      "  1.41140704734\n",
      "  1.40110586201\n",
      "  1.39557174047\n",
      "  0.120805091095\n",
      "  0.0507916037734\n",
      "  \n",
      "  Singular values of target I_tilde (truncating to first 4 of 6) = \n",
      "  4.24264068712\n",
      "  1.41421356237\n",
      "  1.41421356237\n",
      "  1.41421356237\n",
      "  3.03274435922e-16\n",
      "  1.52179543682e-16\n",
      "  \n",
      "DEBUG: optimized gate to min frobenius distance 0.00117637\n",
      "DEBUG: optimized gate to min frobenius distance 0.000998342\n",
      "DEBUG: optimized gate to min frobenius distance 0.000655848\n",
      "DEBUG: optimized vector to min frobenius distance 0.00020837\n",
      "--- Iterative MLGST: Iter 01 of 12  92 gate strings ---: \n",
      "  --- Minimum Chi^2 GST ---\n",
      "  Created evaluation tree with 1 subtrees.  Will divide 1 procs into 1 (subtree-processing)\n",
      "   groups of ~1 procs each, to distribute over 43 params (taken as 1 param groups of ~43 params).\n",
      "  Sum of Chi^2 = 59.0736 (92 data params - 31 model params = expected mean of 61; p-value = 0.546061)\n",
      "  Completed in 0.2s\n",
      "  2*Delta(log(L)) = 66.8869\n",
      "  Iteration 1 took 0.2s\n",
      "  \n",
      "--- Iterative MLGST: Iter 02 of 12  92 gate strings ---: \n",
      "  --- Minimum Chi^2 GST ---\n",
      "  Created evaluation tree with 1 subtrees.  Will divide 1 procs into 1 (subtree-processing)\n",
      "   groups of ~1 procs each, to distribute over 43 params (taken as 1 param groups of ~43 params).\n",
      "  Sum of Chi^2 = 59.0736 (92 data params - 31 model params = expected mean of 61; p-value = 0.546061)\n",
      "  Completed in 0.0s\n",
      "  2*Delta(log(L)) = 66.8869\n",
      "  Iteration 2 took 0.0s\n",
      "  \n",
      "--- Iterative MLGST: Iter 03 of 12  168 gate strings ---: \n",
      "  --- Minimum Chi^2 GST ---\n",
      "  Created evaluation tree with 1 subtrees.  Will divide 1 procs into 1 (subtree-processing)\n",
      "   groups of ~1 procs each, to distribute over 43 params (taken as 1 param groups of ~43 params).\n",
      "  Sum of Chi^2 = 138.522 (168 data params - 31 model params = expected mean of 137; p-value = 0.447542)\n",
      "  Completed in 0.5s\n",
      "  2*Delta(log(L)) = 156.917\n",
      "  Iteration 3 took 0.5s\n",
      "  \n",
      "--- Iterative MLGST: Iter 04 of 12  441 gate strings ---: \n",
      "  --- Minimum Chi^2 GST ---\n",
      "  Created evaluation tree with 1 subtrees.  Will divide 1 procs into 1 (subtree-processing)\n",
      "   groups of ~1 procs each, to distribute over 43 params (taken as 1 param groups of ~43 params).\n",
      "  Sum of Chi^2 = 401.067 (441 data params - 31 model params = expected mean of 410; p-value = 0.614439)\n",
      "  Completed in 0.6s\n",
      "  2*Delta(log(L)) = 450.017\n",
      "  Iteration 4 took 0.6s\n",
      "  \n",
      "--- Iterative MLGST: Iter 05 of 12  817 gate strings ---: \n",
      "  --- Minimum Chi^2 GST ---\n",
      "  Created evaluation tree with 1 subtrees.  Will divide 1 procs into 1 (subtree-processing)\n",
      "   groups of ~1 procs each, to distribute over 43 params (taken as 1 param groups of ~43 params).\n",
      "  Sum of Chi^2 = 915.398 (817 data params - 31 model params = expected mean of 786; p-value = 0.000914806)\n",
      "  Completed in 1.2s\n",
      "  2*Delta(log(L)) = 1020.3\n",
      "  Iteration 5 took 1.2s\n",
      "  \n",
      "--- Iterative MLGST: Iter 06 of 12  1201 gate strings ---: \n",
      "  --- Minimum Chi^2 GST ---\n",
      "  Created evaluation tree with 1 subtrees.  Will divide 1 procs into 1 (subtree-processing)\n",
      "   groups of ~1 procs each, to distribute over 43 params (taken as 1 param groups of ~43 params).\n",
      "  Sum of Chi^2 = 1398.21 (1201 data params - 31 model params = expected mean of 1170; p-value = 4.18793e-06)\n",
      "  Completed in 1.2s\n",
      "  2*Delta(log(L)) = 1541.07\n",
      "  Iteration 6 took 1.2s\n",
      "  \n",
      "--- Iterative MLGST: Iter 07 of 12  1585 gate strings ---: \n",
      "  --- Minimum Chi^2 GST ---\n",
      "  Created evaluation tree with 1 subtrees.  Will divide 1 procs into 1 (subtree-processing)\n",
      "   groups of ~1 procs each, to distribute over 43 params (taken as 1 param groups of ~43 params).\n",
      "  Sum of Chi^2 = 1821.71 (1585 data params - 31 model params = expected mean of 1554; p-value = 2.52362e-06)\n",
      "  Completed in 2.1s\n",
      "  2*Delta(log(L)) = 1996.49\n",
      "  Iteration 7 took 2.2s\n",
      "  \n",
      "--- Iterative MLGST: Iter 08 of 12  1969 gate strings ---: \n",
      "  --- Minimum Chi^2 GST ---\n",
      "  Created evaluation tree with 1 subtrees.  Will divide 1 procs into 1 (subtree-processing)\n",
      "   groups of ~1 procs each, to distribute over 43 params (taken as 1 param groups of ~43 params).\n",
      "  Sum of Chi^2 = 2306.61 (1969 data params - 31 model params = expected mean of 1938; p-value = 1.11749e-08)\n",
      "  Completed in 3.9s\n",
      "  2*Delta(log(L)) = 2500.3\n",
      "  Iteration 8 took 4.0s\n",
      "  \n",
      "--- Iterative MLGST: Iter 09 of 12  2353 gate strings ---: \n",
      "  --- Minimum Chi^2 GST ---\n",
      "  Created evaluation tree with 1 subtrees.  Will divide 1 procs into 1 (subtree-processing)\n",
      "   groups of ~1 procs each, to distribute over 43 params (taken as 1 param groups of ~43 params).\n",
      "  Sum of Chi^2 = 2698.8 (2353 data params - 31 model params = expected mean of 2322; p-value = 6.99858e-08)\n",
      "  Completed in 3.5s\n",
      "  2*Delta(log(L)) = 2931.57\n",
      "  Iteration 9 took 3.7s\n",
      "  \n",
      "--- Iterative MLGST: Iter 10 of 12  2737 gate strings ---: \n",
      "  --- Minimum Chi^2 GST ---\n",
      "  Created evaluation tree with 1 subtrees.  Will divide 1 procs into 1 (subtree-processing)\n",
      "   groups of ~1 procs each, to distribute over 43 params (taken as 1 param groups of ~43 params).\n",
      "  Sum of Chi^2 = 3165.99 (2737 data params - 31 model params = expected mean of 2706; p-value = 1.4349e-09)\n",
      "  Completed in 5.6s\n",
      "  2*Delta(log(L)) = 3427.45\n",
      "  Iteration 10 took 5.9s\n",
      "  \n",
      "--- Iterative MLGST: Iter 11 of 12  3121 gate strings ---: \n",
      "  --- Minimum Chi^2 GST ---\n",
      "  Created evaluation tree with 1 subtrees.  Will divide 1 procs into 1 (subtree-processing)\n",
      "   groups of ~1 procs each, to distribute over 43 params (taken as 1 param groups of ~43 params).\n",
      "  Sum of Chi^2 = 3914.41 (3121 data params - 31 model params = expected mean of 3090; p-value = 0)\n",
      "  Completed in 6.7s\n",
      "  2*Delta(log(L)) = 4221.57\n",
      "  Iteration 11 took 7.4s\n",
      "  \n",
      "--- Iterative MLGST: Iter 12 of 12  3505 gate strings ---: \n",
      "  --- Minimum Chi^2 GST ---\n",
      "  Created evaluation tree with 1 subtrees.  Will divide 1 procs into 1 (subtree-processing)\n",
      "   groups of ~1 procs each, to distribute over 43 params (taken as 1 param groups of ~43 params).\n",
      "  Sum of Chi^2 = 5012.33 (3505 data params - 31 model params = expected mean of 3474; p-value = 0)\n",
      "  Completed in 18.7s\n",
      "  2*Delta(log(L)) = 5409.31\n",
      "  Iteration 12 took 21.3s\n",
      "  \n",
      "  Switching to ML objective (last iteration)\n",
      "  --- MLGST ---\n",
      "  Created evaluation tree with 1 subtrees.  Will divide 1 procs into 1 (subtree-processing)\n",
      "   groups of ~1 procs each, to distribute over 43 params (taken as 1 param groups of ~43 params).\n",
      "    Maximum log(L) = 2576.38 below upper bound of -732886\n",
      "      2*Delta(log(L)) = 5152.75 (3505 data params - 31 model params = expected mean of 3474; p-value = 0)\n",
      "    Completed in 12.2s\n",
      "  2*Delta(log(L)) = 5152.75\n",
      "  Final MLGST took 12.2s\n",
      "  \n",
      "Iterative MLGST Total Time: 60.6s\n"
     ]
    }
   ],
   "source": [
    "resultsNonMarkov_03_02 = pygsti.do_long_sequence_gst(dsNonMarkov_03_02,gs_target,std1Q_XYI.fiducials,std1Q_XYI.fiducials,std1Q_XYI.germs,maxLengths1024,advancedOptions={'verbosity':2})"
   ]
  },
  {
   "cell_type": "code",
   "execution_count": 12,
   "metadata": {
    "collapsed": false,
    "scrolled": true
   },
   "outputs": [
    {
     "name": "stdout",
     "output_type": "stream",
     "text": [
      "--- LGST ---\n",
      "  Singular values of I_tilde (truncating to first 4 of 6) = \n",
      "  4.25819854092\n",
      "  1.5308994112\n",
      "  1.42950742749\n",
      "  1.2722822018\n",
      "  0.281178027272\n",
      "  0.107877753228\n",
      "  \n",
      "  Singular values of target I_tilde (truncating to first 4 of 6) = \n",
      "  4.24264068712\n",
      "  1.41421356237\n",
      "  1.41421356237\n",
      "  1.41421356237\n",
      "  3.03274435922e-16\n",
      "  1.52179543682e-16\n",
      "  \n",
      "DEBUG: optimized gate to min frobenius distance 0.004831\n",
      "DEBUG: optimized gate to min frobenius distance 0.00141406\n",
      "DEBUG: optimized gate to min frobenius distance 0.00252714\n",
      "DEBUG: optimized vector to min frobenius distance 0.000731913\n",
      "--- Iterative MLGST: Iter 01 of 12  92 gate strings ---: \n",
      "  --- Minimum Chi^2 GST ---\n",
      "  Created evaluation tree with 1 subtrees.  Will divide 1 procs into 1 (subtree-processing)\n",
      "   groups of ~1 procs each, to distribute over 43 params (taken as 1 param groups of ~43 params).\n",
      "  Sum of Chi^2 = 49.0954 (92 data params - 31 model params = expected mean of 61; p-value = 0.863397)\n",
      "  Completed in 0.2s\n",
      "  2*Delta(log(L)) = 56.538\n",
      "  Iteration 1 took 0.2s\n",
      "  \n",
      "--- Iterative MLGST: Iter 02 of 12  92 gate strings ---: \n",
      "  --- Minimum Chi^2 GST ---\n",
      "  Created evaluation tree with 1 subtrees.  Will divide 1 procs into 1 (subtree-processing)\n",
      "   groups of ~1 procs each, to distribute over 43 params (taken as 1 param groups of ~43 params).\n",
      "  Sum of Chi^2 = 49.0954 (92 data params - 31 model params = expected mean of 61; p-value = 0.863397)\n",
      "  Completed in 0.0s\n",
      "  2*Delta(log(L)) = 56.538\n",
      "  Iteration 2 took 0.0s\n",
      "  \n",
      "--- Iterative MLGST: Iter 03 of 12  168 gate strings ---: \n",
      "  --- Minimum Chi^2 GST ---\n",
      "  Created evaluation tree with 1 subtrees.  Will divide 1 procs into 1 (subtree-processing)\n",
      "   groups of ~1 procs each, to distribute over 43 params (taken as 1 param groups of ~43 params).\n",
      "  Sum of Chi^2 = 111.078 (168 data params - 31 model params = expected mean of 137; p-value = 0.949121)\n",
      "  Completed in 0.7s\n",
      "  2*Delta(log(L)) = 128.53\n",
      "  Iteration 3 took 0.7s\n",
      "  \n",
      "--- Iterative MLGST: Iter 04 of 12  441 gate strings ---: \n",
      "  --- Minimum Chi^2 GST ---\n",
      "  Created evaluation tree with 1 subtrees.  Will divide 1 procs into 1 (subtree-processing)\n",
      "   groups of ~1 procs each, to distribute over 43 params (taken as 1 param groups of ~43 params).\n",
      "  Sum of Chi^2 = 384.934 (441 data params - 31 model params = expected mean of 410; p-value = 0.807975)\n",
      "  Completed in 1.1s\n",
      "  2*Delta(log(L)) = 441.912\n",
      "  Iteration 4 took 1.2s\n",
      "  \n",
      "--- Iterative MLGST: Iter 05 of 12  817 gate strings ---: \n",
      "  --- Minimum Chi^2 GST ---\n",
      "  Created evaluation tree with 1 subtrees.  Will divide 1 procs into 1 (subtree-processing)\n",
      "   groups of ~1 procs each, to distribute over 43 params (taken as 1 param groups of ~43 params).\n",
      "  Sum of Chi^2 = 723.66 (817 data params - 31 model params = expected mean of 786; p-value = 0.94509)\n",
      "  Completed in 1.2s\n",
      "  2*Delta(log(L)) = 835.802\n",
      "  Iteration 5 took 1.2s\n",
      "  \n",
      "--- Iterative MLGST: Iter 06 of 12  1201 gate strings ---: \n",
      "  --- Minimum Chi^2 GST ---\n",
      "  Created evaluation tree with 1 subtrees.  Will divide 1 procs into 1 (subtree-processing)\n",
      "   groups of ~1 procs each, to distribute over 43 params (taken as 1 param groups of ~43 params).\n",
      "  Sum of Chi^2 = 1050.55 (1201 data params - 31 model params = expected mean of 1170; p-value = 0.994534)\n",
      "  Completed in 1.9s\n",
      "  2*Delta(log(L)) = 1219.05\n",
      "  Iteration 6 took 2.0s\n",
      "  \n",
      "--- Iterative MLGST: Iter 07 of 12  1585 gate strings ---: \n",
      "  --- Minimum Chi^2 GST ---\n",
      "  Created evaluation tree with 1 subtrees.  Will divide 1 procs into 1 (subtree-processing)\n",
      "   groups of ~1 procs each, to distribute over 43 params (taken as 1 param groups of ~43 params).\n",
      "  Sum of Chi^2 = 1403.39 (1585 data params - 31 model params = expected mean of 1554; p-value = 0.9973)\n",
      "  Completed in 3.3s\n",
      "  2*Delta(log(L)) = 1626.87\n",
      "  Iteration 7 took 3.4s\n",
      "  \n",
      "--- Iterative MLGST: Iter 08 of 12  1969 gate strings ---: \n",
      "  --- Minimum Chi^2 GST ---\n",
      "  Created evaluation tree with 1 subtrees.  Will divide 1 procs into 1 (subtree-processing)\n",
      "   groups of ~1 procs each, to distribute over 43 params (taken as 1 param groups of ~43 params).\n",
      "  Sum of Chi^2 = 1780.27 (1969 data params - 31 model params = expected mean of 1938; p-value = 0.995269)\n",
      "  Completed in 3.9s\n",
      "  2*Delta(log(L)) = 2061.37\n",
      "  Iteration 8 took 4.0s\n",
      "  \n",
      "--- Iterative MLGST: Iter 09 of 12  2353 gate strings ---: \n",
      "  --- Minimum Chi^2 GST ---\n",
      "  Created evaluation tree with 1 subtrees.  Will divide 1 procs into 1 (subtree-processing)\n",
      "   groups of ~1 procs each, to distribute over 43 params (taken as 1 param groups of ~43 params).\n",
      "  Sum of Chi^2 = 2146.17 (2353 data params - 31 model params = expected mean of 2322; p-value = 0.995836)\n",
      "  Completed in 5.3s\n",
      "  2*Delta(log(L)) = 2500.32\n",
      "  Iteration 9 took 5.5s\n",
      "  \n",
      "--- Iterative MLGST: Iter 10 of 12  2737 gate strings ---: \n",
      "  --- Minimum Chi^2 GST ---\n",
      "  Created evaluation tree with 1 subtrees.  Will divide 1 procs into 1 (subtree-processing)\n",
      "   groups of ~1 procs each, to distribute over 43 params (taken as 1 param groups of ~43 params).\n",
      "  Sum of Chi^2 = 2522.43 (2737 data params - 31 model params = expected mean of 2706; p-value = 0.994536)\n",
      "  Completed in 6.2s\n",
      "  2*Delta(log(L)) = 2926.02\n",
      "  Iteration 10 took 6.5s\n",
      "  \n",
      "--- Iterative MLGST: Iter 11 of 12  3121 gate strings ---: \n",
      "  --- Minimum Chi^2 GST ---\n",
      "  Created evaluation tree with 1 subtrees.  Will divide 1 procs into 1 (subtree-processing)\n",
      "   groups of ~1 procs each, to distribute over 43 params (taken as 1 param groups of ~43 params).\n",
      "  Sum of Chi^2 = 2895.94 (3121 data params - 31 model params = expected mean of 3090; p-value = 0.994025)\n",
      "  Completed in 8.6s\n",
      "  2*Delta(log(L)) = 3355.96\n",
      "  Iteration 11 took 9.3s\n",
      "  \n",
      "--- Iterative MLGST: Iter 12 of 12  3505 gate strings ---: \n",
      "  --- Minimum Chi^2 GST ---\n",
      "  Created evaluation tree with 1 subtrees.  Will divide 1 procs into 1 (subtree-processing)\n",
      "   groups of ~1 procs each, to distribute over 43 params (taken as 1 param groups of ~43 params).\n",
      "  Sum of Chi^2 = 3296.53 (3505 data params - 31 model params = expected mean of 3474; p-value = 0.984555)\n",
      "  Completed in 17.1s\n",
      "  2*Delta(log(L)) = 3796.73\n",
      "  Iteration 12 took 19.7s\n",
      "  \n",
      "  Switching to ML objective (last iteration)\n",
      "  --- MLGST ---\n",
      "  Created evaluation tree with 1 subtrees.  Will divide 1 procs into 1 (subtree-processing)\n",
      "   groups of ~1 procs each, to distribute over 43 params (taken as 1 param groups of ~43 params).\n",
      "    Maximum log(L) = 1801.38 below upper bound of -259500\n",
      "      2*Delta(log(L)) = 3602.76 (3505 data params - 31 model params = expected mean of 3474; p-value = 0.0625104)\n",
      "    Completed in 11.0s\n",
      "  2*Delta(log(L)) = 3602.76\n",
      "  Final MLGST took 11.0s\n",
      "  \n",
      "Iterative MLGST Total Time: 64.8s\n"
     ]
    }
   ],
   "source": [
    "resultsNonMarkov_03_30 = pygsti.do_long_sequence_gst(dsNonMarkov_03_30,gs_target,std1Q_XYI.fiducials,std1Q_XYI.fiducials,std1Q_XYI.germs,maxLengths1024,advancedOptions={'verbosity':2})"
   ]
  },
  {
   "cell_type": "code",
   "execution_count": 13,
   "metadata": {
    "collapsed": true
   },
   "outputs": [],
   "source": [
    "Xs = maxLengths1024[1:]; xlbl = \"L (max length)\"\n",
    "Ys = std1Q_XYI.germs; ylbl = \"Germ\"\n",
    "gateStrDict = { (x,y):pygsti.construction.repeat_with_max_length(y,x,False) for x in Xs for y in Ys }\n",
    "\n",
    "runningList = []\n",
    "for x in Xs:\n",
    "    for y in Ys:\n",
    "        if gateStrDict[(x,y)] in runningList:\n",
    "            gateStrDict[(x,y)] = None\n",
    "        else: runningList.append( gateStrDict[(x,y)] )"
   ]
  },
  {
   "cell_type": "code",
   "execution_count": 14,
   "metadata": {
    "collapsed": false
   },
   "outputs": [
    {
     "name": "stdout",
     "output_type": "stream",
     "text": [
      "Initial unpickling of figure failed, trying to use cached formats\n",
      "pdf\n"
     ]
    },
    {
     "data": {
      "text/plain": [
       "<pygsti.report.figure.ReportFigure at 0x7f7b90fdcdd0>"
      ]
     },
     "execution_count": 14,
     "metadata": {},
     "output_type": "execute_result"
    }
   ],
   "source": [
    "pplt.logl_boxplot( Xs, Ys, gateStrDict, dsMarkov, resultsMarkov.gatesets['final estimate'], strs, xlbl, ylbl,\n",
    "                 title='',sumUp=True, save_to='../Figures/4a.pdf')"
   ]
  },
  {
   "cell_type": "code",
   "execution_count": 15,
   "metadata": {
    "collapsed": false
   },
   "outputs": [
    {
     "name": "stdout",
     "output_type": "stream",
     "text": [
      "Initial unpickling of figure failed, trying to use cached formats\n",
      "pdf\n"
     ]
    },
    {
     "data": {
      "text/plain": [
       "<pygsti.report.figure.ReportFigure at 0x7f7b8d05fad0>"
      ]
     },
     "execution_count": 15,
     "metadata": {},
     "output_type": "execute_result"
    }
   ],
   "source": [
    "pplt.logl_boxplot( Xs, Ys, gateStrDict, dsNonMarkov_03_02, resultsNonMarkov_03_02.gatesets['final estimate'], strs, xlbl, ylbl,\n",
    "                title='',sumUp=True, save_to='../Figures/4b.pdf')"
   ]
  },
  {
   "cell_type": "code",
   "execution_count": 16,
   "metadata": {
    "collapsed": false
   },
   "outputs": [
    {
     "name": "stdout",
     "output_type": "stream",
     "text": [
      "Initial unpickling of figure failed, trying to use cached formats\n",
      "pdf\n",
      "4.27954006195\n"
     ]
    }
   ],
   "source": [
    "start = time.time()\n",
    "pplt.logl_boxplot( Xs, Ys, gateStrDict, dsNonMarkov_03_30, resultsNonMarkov_03_30.gatesets['final estimate'], strs, xlbl, ylbl,\n",
    "                title='',sumUp=True, save_to='../Figures/4c.pdf')\n",
    "end = time.time()\n",
    "print end - start"
   ]
  },
  {
   "cell_type": "code",
   "execution_count": 17,
   "metadata": {
    "collapsed": false
   },
   "outputs": [
    {
     "name": "stdout",
     "output_type": "stream",
     "text": [
      "rho0 =    0.7071        0  -0.0041   0.7006\n",
      "\n",
      "\n",
      "E0 =    0.7019  -0.0013   0.0008  -0.7026\n",
      "\n",
      "\n",
      "Gi = \n",
      "   1.0000        0        0        0\n",
      "        0   0.9999        0        0\n",
      "        0        0   0.9999        0\n",
      "        0  -0.0001        0   1.0000\n",
      "\n",
      "\n",
      "Gx = \n",
      "   1.0000        0        0        0\n",
      "        0   0.9999        0        0\n",
      "        0        0        0  -0.9999\n",
      "        0        0   0.9999  -0.0002\n",
      "\n",
      "\n",
      "Gy = \n",
      "   1.0000        0        0        0\n",
      "        0        0        0   0.9999\n",
      "        0   0.0001   0.9999        0\n",
      "        0  -0.9999  -0.0002        0\n",
      "\n",
      "\n",
      "\n"
     ]
    }
   ],
   "source": [
    "print resultsNonMarkov_03_30.gatesets['final estimate']"
   ]
  },
  {
   "cell_type": "code",
   "execution_count": 18,
   "metadata": {
    "collapsed": false
   },
   "outputs": [
    {
     "name": "stdout",
     "output_type": "stream",
     "text": [
      "14.2236809731\n",
      "7141.52460001\n"
     ]
    }
   ],
   "source": [
    "start = time.time()\n",
    "chi2val = pygsti.chi2(dsNonMarkov_03_02,resultsNonMarkov_03_02.gatesets['final estimate'])\n",
    "end = time.time()\n",
    "print end - start\n",
    "print chi2val"
   ]
  },
  {
   "cell_type": "code",
   "execution_count": 19,
   "metadata": {
    "collapsed": false
   },
   "outputs": [
    {
     "name": "stdout",
     "output_type": "stream",
     "text": [
      "704.015069962\n",
      "9137.10443375\n"
     ]
    }
   ],
   "source": [
    "start = time.time()\n",
    "chi2val = pygsti.chi2(dsNonMarkov_03_30,resultsNonMarkov_03_30.gatesets['final estimate'])\n",
    "end = time.time()\n",
    "print end - start\n",
    "print chi2val"
   ]
  },
  {
   "cell_type": "code",
   "execution_count": null,
   "metadata": {
    "collapsed": true
   },
   "outputs": [],
   "source": []
  }
 ],
 "metadata": {
  "kernelspec": {
   "display_name": "Python 2",
   "language": "python",
   "name": "python2"
  },
  "language_info": {
   "codemirror_mode": {
    "name": "ipython",
    "version": 2
   },
   "file_extension": ".py",
   "mimetype": "text/x-python",
   "name": "python",
   "nbconvert_exporter": "python",
   "pygments_lexer": "ipython2",
   "version": "2.7.12"
  }
 },
 "nbformat": 4,
 "nbformat_minor": 0
}
