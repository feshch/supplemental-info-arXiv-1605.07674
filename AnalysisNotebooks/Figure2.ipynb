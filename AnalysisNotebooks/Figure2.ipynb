{
 "cells": [
  {
   "cell_type": "code",
   "execution_count": 1,
   "metadata": {
    "collapsed": true
   },
   "outputs": [],
   "source": [
    "import pygsti\n",
    "from pygsti.construction import std1Q_XYI\n",
    "import pickle\n",
    "import sys"
   ]
  },
  {
   "cell_type": "code",
   "execution_count": 2,
   "metadata": {
    "collapsed": true
   },
   "outputs": [],
   "source": [
    "import numpy as np"
   ]
  },
  {
   "cell_type": "code",
   "execution_count": 3,
   "metadata": {
    "collapsed": true
   },
   "outputs": [],
   "source": [
    "from matplotlib import pyplot as plt\n",
    "%matplotlib inline"
   ]
  },
  {
   "cell_type": "code",
   "execution_count": 4,
   "metadata": {
    "collapsed": true
   },
   "outputs": [],
   "source": [
    "import time"
   ]
  },
  {
   "cell_type": "code",
   "execution_count": 5,
   "metadata": {
    "collapsed": true
   },
   "outputs": [],
   "source": [
    "resultsD = {}"
   ]
  },
  {
   "cell_type": "code",
   "execution_count": 6,
   "metadata": {
    "collapsed": true
   },
   "outputs": [],
   "source": [
    "#keyList = [('2014_04_17-compensatedTraining'),('2014_12_02-GSTCompensatedDrift_randomized_condensed'),\n",
    "#           ('2015_02_09-GSTCompensatedDrift_condensed'),('2015_03_02-GST_condensed'),('2015_03_19-GSTBest_condensed'),\n",
    "#           ('2015_03_30-GST_BB1_XYXY_8192_condensed')]\n",
    "\n",
    "keyList = [('2014_04_17-compensatedTraining'),('2014_12_02-GSTCompensatedDrift_randomized_condensed'),\n",
    "           ('2015_02_09-GSTCompensatedDrift_condensed'),('2015_03_02-GST_condensed'),\n",
    "           ('2015_03_30-GST_BB1_XYXY_8192_condensed')]"
   ]
  },
  {
   "cell_type": "code",
   "execution_count": 7,
   "metadata": {
    "collapsed": false
   },
   "outputs": [
    {
     "name": "stdout",
     "output_type": "stream",
     "text": [
      "    \n",
      "--- Hessian Projector Optimization for gate CIs (L-BFGS-B) ---\n",
      "   22s           0.0045506432\n",
      "   30s           0.0044392753\n",
      "   39s           0.0044328192\n",
      "   47s           0.0044309081\n",
      "   55s           0.0044277632\n",
      "   72s           0.0044273884\n",
      "  The resulting min sqrt(sum(gateCIs**2)): 0.00442739\n"
     ]
    },
    {
     "name": "stderr",
     "output_type": "stream",
     "text": [
      "\n",
      "ERROR: pdflatex returned code 1 Check 2014_04_17-compensatedTraining.log to see details.\n"
     ]
    },
    {
     "name": "stdout",
     "output_type": "stream",
     "text": [
      "    \n",
      "--- Hessian Projector Optimization for gate CIs (L-BFGS-B) ---\n",
      "  108s           0.0018193837\n",
      "  116s           0.0016715077\n",
      "  125s           0.0016551242\n",
      "  134s           0.0016531255\n",
      "  142s           0.0016468899\n",
      "  151s           0.0016419072\n",
      "  168s           0.0016405503\n",
      "  176s           0.0016399042\n",
      "  The resulting min sqrt(sum(gateCIs**2)): 0.0016399\n"
     ]
    },
    {
     "name": "stderr",
     "output_type": "stream",
     "text": [
      "\n",
      "ERROR: pdflatex returned code 1 Check 2014_12_02-GSTCompensatedDrift_randomized_condensed.log to see details.\n"
     ]
    },
    {
     "name": "stdout",
     "output_type": "stream",
     "text": [
      "    \n",
      "--- Hessian Projector Optimization for gate CIs (L-BFGS-B) ---\n",
      "  215s           0.0008476560\n",
      "  224s           0.0005972243\n",
      "  232s           0.0005220805\n",
      "  241s           0.0005137251\n",
      "  250s           0.0005055650\n",
      "  258s           0.0004941912\n",
      "  267s           0.0004858549\n",
      "  275s           0.0004791839\n",
      "  284s           0.0004767499\n",
      "  292s           0.0004766424\n",
      "  The resulting min sqrt(sum(gateCIs**2)): 0.000476642\n"
     ]
    },
    {
     "name": "stderr",
     "output_type": "stream",
     "text": [
      "\n",
      "ERROR: pdflatex returned code 1 Check 2015_02_09-GSTCompensatedDrift_condensed.log to see details.\n"
     ]
    },
    {
     "name": "stdout",
     "output_type": "stream",
     "text": [
      "    \n",
      "--- Hessian Projector Optimization for gate CIs (L-BFGS-B) ---\n",
      "  377s           0.0010754143\n",
      "  385s           0.0006301573\n",
      "  394s           0.0004971921\n",
      "  403s           0.0004752743\n",
      "  411s           0.0004591976\n",
      "  419s           0.0004460136\n",
      "  428s           0.0004391255\n",
      "  437s           0.0004075267\n",
      "  445s           0.0003971107\n",
      "  462s           0.0003940109\n",
      "  471s           0.0003932727\n",
      "  The resulting min sqrt(sum(gateCIs**2)): 0.000393273\n"
     ]
    },
    {
     "name": "stderr",
     "output_type": "stream",
     "text": [
      "\n",
      "ERROR: pdflatex returned code 1 Check 2015_03_02-GST_condensed.log to see details.\n"
     ]
    },
    {
     "name": "stdout",
     "output_type": "stream",
     "text": [
      "    \n",
      "--- Hessian Projector Optimization for gate CIs (L-BFGS-B) ---\n",
      " 1599s           0.0015961234\n",
      " 1608s           0.0007618351\n",
      " 1617s           0.0005474034\n",
      " 1634s           0.0004430106\n",
      " 1651s           0.0003930114\n",
      " 1660s           0.0003740509\n",
      " 1668s           0.0002880956\n",
      " 1677s           0.0002047055\n",
      " 1694s           0.0001845021\n",
      " 1703s           0.0001533639\n",
      " 1711s           0.0001481242\n",
      " 1720s           0.0001464587\n",
      " 1728s           0.0001444728\n",
      " 1737s           0.0001423815\n",
      " 1746s           0.0001397967\n",
      " 1754s           0.0001381713\n",
      " 1763s           0.0001374071\n",
      "  The resulting min sqrt(sum(gateCIs**2)): 0.000137407\n"
     ]
    },
    {
     "name": "stderr",
     "output_type": "stream",
     "text": [
      "\n",
      "ERROR: pdflatex returned code 1 Check 2015_03_30-GST_BB1_XYXY_8192_condensed.log to see details.\n"
     ]
    }
   ],
   "source": [
    "#This may take up to an hour or two to run.\n",
    "for key in keyList:\n",
    "    resultsD[key] = pickle.load(open('../ComputedObjects/'+key+'.pkl','r'))\n",
    "    resultsD[key].confidence_level = 95\n",
    "    resultsD[key].create_brief_report_pdf(confidenceLevel=95)"
   ]
  },
  {
   "cell_type": "code",
   "execution_count": 8,
   "metadata": {
    "collapsed": false,
    "scrolled": true
   },
   "outputs": [
    {
     "name": "stdout",
     "output_type": "stream",
     "text": [
      "2014_04_17-compensatedTraining\n",
      "2014_12_02-GSTCompensatedDrift_randomized_condensed\n",
      "2015_02_09-GSTCompensatedDrift_condensed\n",
      "2015_03_02-GST_condensed\n",
      "2015_03_30-GST_BB1_XYXY_8192_condensed\n",
      "Took 0.0077428817749  seconds to compute derived gate quantities.\n"
     ]
    }
   ],
   "source": [
    "#Compute (with error bars) the process infidelity and diamond norm\n",
    "#for each data set.  This may take some time, particularly for the last data set.\n",
    "derived_tablesD = {}\n",
    "start = time.time()\n",
    "for key in keyList:\n",
    "    print key\n",
    "    sys.stdout.flush()\n",
    "    derived_tablesD[key] = resultsD[key].tables['bestGatesetVsTargetTable']\n",
    "end = time.time()\n",
    "print \"Took\", end-start, \" seconds to compute derived gate quantities.\""
   ]
  },
  {
   "cell_type": "code",
   "execution_count": 9,
   "metadata": {
    "collapsed": false,
    "scrolled": true
   },
   "outputs": [
    {
     "name": "stdout",
     "output_type": "stream",
     "text": [
      "2014_04_17-compensatedTraining\n",
      "2014_12_02-GSTCompensatedDrift_randomized_condensed\n",
      "2015_02_09-GSTCompensatedDrift_condensed\n",
      "2015_03_02-GST_condensed\n",
      "2015_03_30-GST_BB1_XYXY_8192_condensed\n",
      "Took 1115.04241896  seconds to compute log-likelihood tables.\n"
     ]
    }
   ],
   "source": [
    "#Compute the log-likelihood scores for each dataset,\n",
    "#and in turn the amount of Markovianity violation.\n",
    "#This too may take some time, particularly for the last data set.\n",
    "\n",
    "logL_tablesD = {}\n",
    "start = time.time()\n",
    "for key in keyList:\n",
    "    print key\n",
    "    sys.stdout.flush()\n",
    "    logL_tablesD[key] = resultsD[key].tables['logLProgressTable']\n",
    "end = time.time()\n",
    "print \"Took\", end-start, \" seconds to compute log-likelihood tables.\""
   ]
  },
  {
   "cell_type": "code",
   "execution_count": 10,
   "metadata": {
    "collapsed": true
   },
   "outputs": [],
   "source": [
    "InfidelityXList = []\n",
    "InfidelityErrorXList = []\n",
    "InfidelityYList = []\n",
    "InfidelityErrorYList = []\n",
    "InfidelityIList = []\n",
    "InfidelityErrorIList = []\n",
    "\n",
    "DiamondXList = []\n",
    "DiamondErrorXList = []\n",
    "DiamondYList = []\n",
    "DiamondErrorYList = []\n",
    "DiamondIList = []\n",
    "DiamondErrorIList = []\n",
    "\n",
    "sigmaList = []"
   ]
  },
  {
   "cell_type": "code",
   "execution_count": 11,
   "metadata": {
    "collapsed": false
   },
   "outputs": [],
   "source": [
    "for key in keyList:\n",
    "    InfidelityIList.append(derived_tablesD[key]['Gi']['Process|Infidelity'][0][0,0])\n",
    "    InfidelityErrorIList.append(derived_tablesD[key]['Gi']['Process|Infidelity'][1][0,0])\n",
    "    \n",
    "    InfidelityXList.append(derived_tablesD[key]['Gx']['Process|Infidelity'][0][0,0])\n",
    "    InfidelityErrorXList.append(derived_tablesD[key]['Gx']['Process|Infidelity'][1][0,0])\n",
    "\n",
    "    InfidelityYList.append(derived_tablesD[key]['Gy']['Process|Infidelity'][0][0,0])\n",
    "    InfidelityErrorYList.append(derived_tablesD[key]['Gy']['Process|Infidelity'][1][0,0])\n",
    "    \n",
    "    \n",
    "    DiamondIList.append(derived_tablesD[key]['Gi']['1/2 Diamond-Norm'][0]*2)\n",
    "    DiamondErrorIList.append(derived_tablesD[key]['Gi']['1/2 Diamond-Norm'][1])\n",
    "    \n",
    "    DiamondXList.append(derived_tablesD[key]['Gx']['1/2 Diamond-Norm'][0]*2)\n",
    "    DiamondErrorXList.append(derived_tablesD[key]['Gx']['1/2 Diamond-Norm'][1])\n",
    "\n",
    "    DiamondYList.append(derived_tablesD[key]['Gy']['1/2 Diamond-Norm'][0]*2)\n",
    "    DiamondErrorYList.append(derived_tablesD[key]['Gy']['1/2 Diamond-Norm'][1])\n",
    "\n",
    "#    Lkey = logL_tablesD[key].keys()[-1]\n",
    "#    print key, Lkey\n",
    "#    TwoDeltaLogL_less_k = logL_tablesD[key][Lkey]['2*Delta(log L)-k']\n",
    "#    root_two_k = logL_tablesD[key][Lkey]['sqrt{2k}']\n",
    "#    sigmaList.append(TwoDeltaLogL_less_k / root_two_k)"
   ]
  },
  {
   "cell_type": "code",
   "execution_count": 12,
   "metadata": {
    "collapsed": false
   },
   "outputs": [
    {
     "name": "stdout",
     "output_type": "stream",
     "text": [
      "2014_04_17-compensatedTraining 256\n",
      "2014_12_02-GSTCompensatedDrift_randomized_condensed 512\n",
      "2015_02_09-GSTCompensatedDrift_condensed 512\n",
      "2015_03_02-GST_condensed 2048\n",
      "2015_03_30-GST_BB1_XYXY_8192_condensed 8192\n"
     ]
    }
   ],
   "source": [
    "for key in keyList:\n",
    "    Lkey = logL_tablesD[key].keys()[-1]\n",
    "    print key, Lkey\n",
    "    TwoDeltaLogL_less_k = logL_tablesD[key][Lkey]['2*Delta(log L)-k']\n",
    "    root_two_k = logL_tablesD[key][Lkey]['sqrt{2k}']\n",
    "    sigmaList.append(TwoDeltaLogL_less_k / root_two_k)"
   ]
  },
  {
   "cell_type": "code",
   "execution_count": 13,
   "metadata": {
    "collapsed": true
   },
   "outputs": [],
   "source": [
    "#Actual plots for paper made with DataGraph."
   ]
  },
  {
   "cell_type": "code",
   "execution_count": 14,
   "metadata": {
    "collapsed": false
   },
   "outputs": [
    {
     "data": {
      "image/png": "[encoded data removed]",
      "text/plain": [
       "<matplotlib.figure.Figure at 0x7f60bcda0990>"
      ]
     },
     "metadata": {},
     "output_type": "display_data"
    }
   ],
   "source": [
    "plt.errorbar(range(5),InfidelityIList,InfidelityErrorIList,linestyle='-',marker='^',label='Gi',color='k')#,'-o',label='Gi')\n",
    "plt.errorbar(range(5),InfidelityXList,InfidelityErrorXList,linestyle='-',marker='s',label='Gx',color='r')\n",
    "plt.errorbar(range(5),InfidelityYList,InfidelityErrorYList,linestyle='-',marker='o',label='Gy',color='b')\n",
    "plt.yscale('log')\n",
    "plt.ylabel('Infidelity')\n",
    "plt.xlabel('Date')\n",
    "plt.xticks(range(5),['4/17/14','12/2/14','2/9/15','3/2/15','3/30/15'])\n",
    "plt.legend()\n",
    "plt.savefig('../Figures/Fig2a.pdf')"
   ]
  },
  {
   "cell_type": "code",
   "execution_count": 15,
   "metadata": {
    "collapsed": false
   },
   "outputs": [
    {
     "data": {
      "image/png": "[encoded data removed]",
      "text/plain": [
       "<matplotlib.figure.Figure at 0x7f60bc919f50>"
      ]
     },
     "metadata": {},
     "output_type": "display_data"
    }
   ],
   "source": [
    "plt.errorbar(range(5),DiamondIList,np.array(DiamondErrorIList),linestyle='-',marker='^',label='Gi',color='k')#,'-o',label='Gi')\n",
    "plt.errorbar(range(5),DiamondXList,np.array(DiamondErrorXList),linestyle='-',marker='s',label='Gx',color='r')\n",
    "plt.errorbar(range(5),DiamondYList,np.array(DiamondErrorYList),linestyle='-',marker='o',label='Gy',color='b')\n",
    "plt.axhline(6.7e-4,linestyle='--',color='purple')#Fault-tolerance threshold \n",
    "plt.yscale('log')\n",
    "plt.ylabel(r'$||\\cdot||_\\diamond$')\n",
    "plt.xlabel('Date')\n",
    "plt.xlim(0,6)\n",
    "plt.xticks(range(5),['4/17/14','12/2/14','2/9/15','3/2/15','3/30/15'])\n",
    "plt.legend()\n",
    "plt.savefig('../Figures/Fig2b.pdf')"
   ]
  },
  {
   "cell_type": "code",
   "execution_count": 16,
   "metadata": {
    "collapsed": false
   },
   "outputs": [
    {
     "data": {
      "image/png": "[encoded data removed]",
      "text/plain": [
       "<matplotlib.figure.Figure at 0x7f60839dc890>"
      ]
     },
     "metadata": {},
     "output_type": "display_data"
    }
   ],
   "source": [
    "plt.errorbar(range(5),sigmaList,linestyle='-',marker='d',color='k')#,'-o',label='Gi')\n",
    "plt.yscale('log')\n",
    "plt.ylabel('Markovianity violation (sigma)')\n",
    "plt.xlabel('Date')\n",
    "plt.xticks(range(5),['4/17/14','12/2/14','2/9/15','3/2/15','3/30/15'])\n",
    "#plt.legend()\n",
    "plt.savefig('../Figures/Fig2c.pdf')"
   ]
  },
  {
   "cell_type": "code",
   "execution_count": 17,
   "metadata": {
    "collapsed": false
   },
   "outputs": [
    {
     "name": "stdout",
     "output_type": "stream",
     "text": [
      "Date\t\tI Infidelity\n",
      "04/17/14 \t0.0023596712239 +/- 7.08746730026e-05\n",
      "12/02/14 \t0.00283605128655 +/- 0.000100532945927\n",
      "02/09/15 \t0.000189232794338 +/- 1.78571254144e-05\n",
      "03/02/15 \t0.000344621943215 +/- 1.44706209459e-05\n",
      "03/30/15 \t6.94495463569e-05 +/- 6.00541603976e-06\n"
     ]
    }
   ],
   "source": [
    "dates = ['04/17/14','12/02/14','02/09/15','03/02/15','03/30/15']\n",
    "print \"Date\\t\\tI Infidelity\"\n",
    "for num, key in enumerate(keyList):\n",
    "    print dates[num], '\\t', str(InfidelityIList[num])+' +/- '+str(InfidelityErrorIList[num])"
   ]
  },
  {
   "cell_type": "code",
   "execution_count": 18,
   "metadata": {
    "collapsed": false
   },
   "outputs": [
    {
     "name": "stdout",
     "output_type": "stream",
     "text": [
      "Date\t\tX Infidelity\n",
      "04/17/14 \t0.00096725735772 +/- 2.68949352519e-05\n",
      "12/02/14 \t0.000315872177792 +/- 3.26452544823e-05\n",
      "02/09/15 \t3.85610861036e-05 +/- 2.19658765727e-05\n",
      "03/02/15 \t4.01005603412e-05 +/- 6.41391332319e-06\n",
      "03/30/15 \t6.13197070332e-05 +/- 7.41281872682e-06\n"
     ]
    }
   ],
   "source": [
    "print \"Date\\t\\tX Infidelity\"\n",
    "for num, key in enumerate(keyList):\n",
    "    print dates[num], '\\t', str(InfidelityXList[num])+' +/- '+str(InfidelityErrorXList[num])"
   ]
  },
  {
   "cell_type": "code",
   "execution_count": 19,
   "metadata": {
    "collapsed": false
   },
   "outputs": [
    {
     "name": "stdout",
     "output_type": "stream",
     "text": [
      "Date\t\tY Infidelity\n",
      "04/17/14 \t0.000995416554978 +/- 2.70147845444e-05\n",
      "12/02/14 \t6.29338560751e-05 +/- 1.84677681803e-05\n",
      "02/09/15 \t7.80493071978e-05 +/- 2.02855136686e-05\n",
      "03/02/15 \t6.54418482664e-05 +/- 7.36198864598e-06\n",
      "03/30/15 \t7.15247680837e-05 +/- 6.93216340687e-06\n"
     ]
    }
   ],
   "source": [
    "print \"Date\\t\\tY Infidelity\"\n",
    "for num, key in enumerate(keyList):\n",
    "    print dates[num], '\\t', str(InfidelityYList[num])+' +/- '+str(InfidelityErrorYList[num])"
   ]
  },
  {
   "cell_type": "code",
   "execution_count": 20,
   "metadata": {
    "collapsed": false
   },
   "outputs": [
    {
     "name": "stdout",
     "output_type": "stream",
     "text": [
      "Date\t\tI Diamond distance\n",
      "04/17/14 \t0.0213360091963 +/- 0.000179801313819\n",
      "12/02/14 \t0.0382437111865 +/- 0.000381631547723\n",
      "02/09/15 \t0.00560365172972 +/- 5.49061659816e-05\n",
      "03/02/15 \t0.00565151756544 +/- 6.65354059159e-05\n",
      "03/30/15 \t0.000158286518617 +/- 7.32022384325e-06\n"
     ]
    }
   ],
   "source": [
    "print \"Date\\t\\tI Diamond distance\"\n",
    "for num, key in enumerate(keyList):\n",
    "    print dates[num], '\\t', str(DiamondIList[num])+' +/- '+str(DiamondErrorIList[num])"
   ]
  },
  {
   "cell_type": "code",
   "execution_count": 21,
   "metadata": {
    "collapsed": false
   },
   "outputs": [
    {
     "name": "stdout",
     "output_type": "stream",
     "text": [
      "Date\t\tX Diamond distance\n",
      "04/17/14 \t0.0108260824177 +/- 0.000624264961791\n",
      "12/02/14 \t0.00330595488009 +/- 8.53405017792e-05\n",
      "02/09/15 \t0.00415745862698 +/- 5.17757549323e-05\n",
      "03/02/15 \t0.000169278666816 +/- 2.36120993871e-05\n",
      "03/30/15 \t0.000139861531393 +/- 1.10848160449e-05\n"
     ]
    }
   ],
   "source": [
    "print \"Date\\t\\tX Diamond distance\"\n",
    "for num, key in enumerate(keyList):\n",
    "    print dates[num], '\\t', str(DiamondXList[num])+' +/- '+str(DiamondErrorXList[num])"
   ]
  },
  {
   "cell_type": "code",
   "execution_count": 22,
   "metadata": {
    "collapsed": false
   },
   "outputs": [
    {
     "name": "stdout",
     "output_type": "stream",
     "text": [
      "Date\t\tY Diamond distance\n",
      "04/17/14 \t0.010487328468 +/- 0.000604468864455\n",
      "12/02/14 \t0.00395331013901 +/- 7.38766904448e-05\n",
      "02/09/15 \t0.00434941134741 +/- 4.78157591345e-05\n",
      "03/02/15 \t0.000185377490904 +/- 1.75722130612e-05\n",
      "03/30/15 \t0.00016192289128 +/- 1.28016548124e-05\n"
     ]
    }
   ],
   "source": [
    "print \"Date\\t\\tY Diamond distance\"\n",
    "for num, key in enumerate(keyList):\n",
    "    print dates[num], '\\t', str(DiamondYList[num])+' +/- '+str(DiamondErrorYList[num])"
   ]
  },
  {
   "cell_type": "code",
   "execution_count": 23,
   "metadata": {
    "collapsed": false
   },
   "outputs": [
    {
     "name": "stdout",
     "output_type": "stream",
     "text": [
      "Date\t\tMarkovianity violation (number of sigma)\n",
      "04/17/14 \t164.483168663\n",
      "12/02/14 \t268.566818317\n",
      "02/09/15 \t14.1366151582\n",
      "03/02/15 \t33.6611279017\n",
      "03/30/15 \t4.30761252171\n"
     ]
    }
   ],
   "source": [
    "print \"Date\\t\\tMarkovianity violation (number of sigma)\"\n",
    "for num, key in enumerate(keyList):\n",
    "    print dates[num], '\\t', sigmaList[num]"
   ]
  },
  {
   "cell_type": "markdown",
   "metadata": {},
   "source": [
    " "
   ]
  }
 ],
 "metadata": {
  "kernelspec": {
   "display_name": "Python 2",
   "language": "python",
   "name": "python2"
  },
  "language_info": {
   "codemirror_mode": {
    "name": "ipython",
    "version": 2
   },
   "file_extension": ".py",
   "mimetype": "text/x-python",
   "name": "python",
   "nbconvert_exporter": "python",
   "pygments_lexer": "ipython2",
   "version": "2.7.12"
  }
 },
 "nbformat": 4,
 "nbformat_minor": 0
}
